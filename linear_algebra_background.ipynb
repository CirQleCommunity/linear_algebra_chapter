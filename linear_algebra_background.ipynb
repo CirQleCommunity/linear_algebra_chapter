{
 "cells": [
  {
   "cell_type": "markdown",
   "metadata": {},
   "source": [
    "# Linear Algebra Background"
   ]
  },
  {
   "cell_type": "markdown",
   "metadata": {},
   "source": [
    "## Introduction\n",
    "\n",
    "In this chapter, we will give a rudimentary background on linear algebra. We will cover the basics of vectors, matrices, and tensor products with a very computational approach. We will refrain from introducing most of the mathematical formalism often encountered in a math course on linear algebra and we will avoid talking in depth about linear maps and the formal \"*universal property*\" definition of tensor products and focus again on a more computational and practical approach that will be useful for those who are are working on problems in software development, algorithms, and programming. There will be many examples throughout using Python and NumPy. This will also serve as a good introduction to some very basic usage of Python and NumPy for readers without a coding background. For a more advanced and theoretical treatment of tensors we will refer the reader to the Appendix on tensor networks. We will also provide some references to video lectures and other texts for the curious and adventurous reader at the end of the chapter. "
   ]
  },
  {
   "cell_type": "markdown",
   "metadata": {},
   "source": [
    "## Dependencies and Imports\n",
    "\n",
    "### Installation of Packages\n",
    "The packages we will need can be installed via pip:"
   ]
  },
  {
   "cell_type": "code",
   "execution_count": 1,
   "metadata": {},
   "outputs": [
    {
     "name": "stdout",
     "output_type": "stream",
     "text": [
      "Requirement already up-to-date: pennylane in /Users/amelieschreiber/anaconda3/lib/python3.7/site-packages (0.8.0)\n",
      "Requirement already satisfied, skipping upgrade: numpy in /Users/amelieschreiber/anaconda3/lib/python3.7/site-packages (from pennylane) (1.18.0)\n",
      "Requirement already satisfied, skipping upgrade: networkx in /Users/amelieschreiber/anaconda3/lib/python3.7/site-packages (from pennylane) (2.3)\n",
      "Requirement already satisfied, skipping upgrade: appdirs in /Users/amelieschreiber/anaconda3/lib/python3.7/site-packages (from pennylane) (1.4.3)\n",
      "Requirement already satisfied, skipping upgrade: scipy in /Users/amelieschreiber/anaconda3/lib/python3.7/site-packages (from pennylane) (1.3.0)\n",
      "Requirement already satisfied, skipping upgrade: autograd in /Users/amelieschreiber/anaconda3/lib/python3.7/site-packages (from pennylane) (1.3)\n",
      "Requirement already satisfied, skipping upgrade: toml in /Users/amelieschreiber/anaconda3/lib/python3.7/site-packages (from pennylane) (0.10.0)\n",
      "Requirement already satisfied, skipping upgrade: semantic-version==2.6 in /Users/amelieschreiber/anaconda3/lib/python3.7/site-packages (from pennylane) (2.6.0)\n",
      "Requirement already satisfied, skipping upgrade: decorator>=4.3.0 in /Users/amelieschreiber/anaconda3/lib/python3.7/site-packages (from networkx->pennylane) (4.4.0)\n",
      "Requirement already satisfied, skipping upgrade: future>=0.15.2 in /Users/amelieschreiber/anaconda3/lib/python3.7/site-packages (from autograd->pennylane) (0.17.1)\n",
      "Note: you may need to restart the kernel to use updated packages.\n"
     ]
    }
   ],
   "source": [
    "pip install pennylane --upgrade"
   ]
  },
  {
   "cell_type": "markdown",
   "metadata": {},
   "source": [
    "### Importing Packages\n",
    "\n",
    "For much of this section we will need to use complex numbers and a lot of linear algebra. To do this in a way this is compatible with quantum computing we will use \\textbf{PennyLane} and the wrapped version of NumPy inside of PennyLane, so at the beginning of any Jupyter notebook or Python file import the following package:"
   ]
  },
  {
   "cell_type": "code",
   "execution_count": 2,
   "metadata": {},
   "outputs": [],
   "source": [
    "# Read packages into Python library:\n",
    "import pennylane as qml\n",
    "from pennylane import numpy as np"
   ]
  },
  {
   "cell_type": "markdown",
   "metadata": {},
   "source": [
    "This will allow us to create vectors, operators (matrices), and tensors that are complex valued, i.e. they have complex numbers as entries, and it will allow us to easily and quickly define unitary matrices which are fundamental to quantum computing and quantum mechanics in general. It is very important that we import NumPy as the wrapped version inside of PennyLane and not separately on its own. This ensures compatibility between the two packages. "
   ]
  },
  {
   "cell_type": "markdown",
   "metadata": {},
   "source": [
    "## Review of Complex Numbers\n",
    "In this section, we review the basic algebra of complex numbers and give some Python code using the NumPy package. "
   ]
  },
  {
   "cell_type": "markdown",
   "metadata": {},
   "source": [
    "### Creating Complex Numbers and Arithmetic Operations\n",
    "Creating complex numbers is very easy in Python using NumPy. We can create two complex numbers $z = 3+4j$ and $w = 1-1j$ using the NumPy library. Here, remember $j = \\sqrt{-1}$ and $j^2 = -1$. Typically, in math textbooks, the imaginary number $j$ is instead denote by $i$, and complex numbers are usually written as $a+bi$ as apposed to $a+bj$. We will use both throughout the text, so it is important to get comfortable with both and be fluent in converting between the two notations. "
   ]
  },
  {
   "cell_type": "code",
   "execution_count": 3,
   "metadata": {},
   "outputs": [],
   "source": [
    "z = 3 + 4j\n",
    "w = 1 - 1j"
   ]
  },
  {
   "cell_type": "markdown",
   "metadata": {},
   "source": [
    "We can add the two complex numbers $z$ and $w$:"
   ]
  },
  {
   "cell_type": "code",
   "execution_count": 4,
   "metadata": {},
   "outputs": [
    {
     "data": {
      "text/plain": [
       "(4+3j)"
      ]
     },
     "execution_count": 4,
     "metadata": {},
     "output_type": "execute_result"
    }
   ],
   "source": [
    "z+w"
   ]
  },
  {
   "cell_type": "markdown",
   "metadata": {},
   "source": [
    "We can also subtract the two complex numbers:"
   ]
  },
  {
   "cell_type": "code",
   "execution_count": 5,
   "metadata": {},
   "outputs": [
    {
     "data": {
      "text/plain": [
       "(2+5j)"
      ]
     },
     "execution_count": 5,
     "metadata": {},
     "output_type": "execute_result"
    }
   ],
   "source": [
    "z-w"
   ]
  },
  {
   "cell_type": "markdown",
   "metadata": {},
   "source": [
    "Multiplying complex numbers in python is done as follows:"
   ]
  },
  {
   "cell_type": "code",
   "execution_count": 6,
   "metadata": {},
   "outputs": [
    {
     "data": {
      "text/plain": [
       "(7+1j)"
      ]
     },
     "execution_count": 6,
     "metadata": {},
     "output_type": "execute_result"
    }
   ],
   "source": [
    "z*w"
   ]
  },
  {
   "cell_type": "markdown",
   "metadata": {},
   "source": [
    "We can print the real and imaginary parts of complex numbers as follows for $z = 3+4i:"
   ]
  },
  {
   "cell_type": "code",
   "execution_count": 7,
   "metadata": {},
   "outputs": [
    {
     "name": "stdout",
     "output_type": "stream",
     "text": [
      "z= (3+4j)\n",
      "Real(z)= 3.0\n",
      "Imag(Z)= 4.0\n"
     ]
    }
   ],
   "source": [
    "print('z=', z)\n",
    "print('Real(z)=', np.real(z))\n",
    "print('Imag(Z)=', np.imag(z))"
   ]
  },
  {
   "cell_type": "markdown",
   "metadata": {},
   "source": [
    "Similarly for $w = 1-i$:"
   ]
  },
  {
   "cell_type": "code",
   "execution_count": 8,
   "metadata": {},
   "outputs": [
    {
     "name": "stdout",
     "output_type": "stream",
     "text": [
      "w= (1-1j)\n",
      "Real(w)= 1.0\n",
      "Imag(w)= -1.0\n"
     ]
    }
   ],
   "source": [
    "print('w=', w)\n",
    "print('Real(w)=', np.real(w))\n",
    "print('Imag(w)=', np.imag(w))"
   ]
  },
  {
   "cell_type": "markdown",
   "metadata": {},
   "source": [
    "We can compute the **complex conjugates** $z^*$ and $w^*$, which just negates the imaginary part of the complex numbers as follows:"
   ]
  },
  {
   "cell_type": "code",
   "execution_count": 9,
   "metadata": {},
   "outputs": [
    {
     "data": {
      "text/plain": [
       "(3-4j)"
      ]
     },
     "execution_count": 9,
     "metadata": {},
     "output_type": "execute_result"
    }
   ],
   "source": [
    "np.conj(z)"
   ]
  },
  {
   "cell_type": "code",
   "execution_count": 10,
   "metadata": {},
   "outputs": [
    {
     "data": {
      "text/plain": [
       "(1+1j)"
      ]
     },
     "execution_count": 10,
     "metadata": {},
     "output_type": "execute_result"
    }
   ],
   "source": [
    "np.conj(w)"
   ]
  },
  {
   "cell_type": "markdown",
   "metadata": {},
   "source": [
    "We can compute the **absolute value** of the complex numbers \n",
    "\n",
    "\\begin{align} ||z|| &= \\sqrt{zz^*} = \\sqrt{|z|^2},\\\\ ||w|| &= \\sqrt{ww^*} = \\sqrt{|w|^2}, \\end{align} "
   ]
  },
  {
   "cell_type": "code",
   "execution_count": 11,
   "metadata": {},
   "outputs": [
    {
     "name": "stdout",
     "output_type": "stream",
     "text": [
      "||z||= 5.0\n"
     ]
    }
   ],
   "source": [
    "print('||z||=', np.abs(z))"
   ]
  },
  {
   "cell_type": "code",
   "execution_count": 12,
   "metadata": {},
   "outputs": [
    {
     "name": "stdout",
     "output_type": "stream",
     "text": [
      "||w||= 1.4142135623730951\n"
     ]
    }
   ],
   "source": [
    "print('||w||=', np.abs(w))"
   ]
  },
  {
   "cell_type": "markdown",
   "metadata": {},
   "source": [
    "### Exercises"
   ]
  },
  {
   "cell_type": "markdown",
   "metadata": {},
   "source": [
    "1. Compute the complex conjugate of the following complex numbers:\n",
    "\\begin{align}\n",
    "u = 2-i, \\quad z = 3+4i, \\quad w = -9i\n",
    "\\end{align}"
   ]
  },
  {
   "cell_type": "markdown",
   "metadata": {},
   "source": [
    "2. Compute the absolute value (or norm) of $u, z,$ and $w$."
   ]
  },
  {
   "cell_type": "markdown",
   "metadata": {},
   "source": [
    "3. Compute the absolute values using Python to check that they match your answers. Don't forget to use \"$j$\" instead of \"$i$\" in Python. "
   ]
  },
  {
   "cell_type": "markdown",
   "metadata": {},
   "source": [
    "## Vectors \n",
    "\n",
    "Vectors will be fundamental in our study of quantum computing. The most basic unit of computation in a quantum computer is a \\emph{qubit}, which can be represented as a $2$-dimensional complex vector of length one. So understanding vectors will be foundational and necessary for most of what we will be doing in this book. Vectors can be thought of in many ways, one of the most basic is simply as an array of numbers, which we will often represent as a column of numbers called \\textbf{column vectors}, but in some cases we will also need \\textbf{row vectors}:\\\\\n",
    "\n",
    "\n",
    "\\begin{align} \\text{Column Vector:} \\ \\begin{pmatrix}\n",
    "a_1 \\\\ a_2 \\\\ \\vdots \\\\ a_n\n",
    "\\end{pmatrix}, \\quad \\quad \\text{Row Vector:} \\ \\begin{pmatrix}\n",
    "a_1, & a_2, & \\cdots, & a_n\n",
    "\\end{pmatrix} \\end{align}"
   ]
  },
  {
   "cell_type": "markdown",
   "metadata": {},
   "source": [
    "We can create a column vector and a row vector in Python:"
   ]
  },
  {
   "cell_type": "code",
   "execution_count": 13,
   "metadata": {},
   "outputs": [],
   "source": [
    "# Create a vector as a row\n",
    "row_vector = np.array([2-1j, 7j, -3])\n",
    "\n",
    "# Create a vector as a column\n",
    "column_vector = np.array([[2+1j],\n",
    "                          [-5],\n",
    "                          [2j]])"
   ]
  },
  {
   "cell_type": "markdown",
   "metadata": {},
   "source": [
    "Row vectors in quantum mechanics are also called **bra-vectors**, and are denoted as follows:\n",
    "\n",
    "\\begin{align} \\langle A| = \\begin{pmatrix}\n",
    "a_1, & a_2, \\cdots, & a_n\n",
    "\\end{pmatrix} \\end{align}\n",
    "\n",
    "Column vectors are also called **ket-vectors** in quantum mechanics denoted as follows:\n",
    "\n",
    "\\begin{align} |B\\rangle = \\begin{pmatrix}\n",
    "b_1 \\\\ b_2 \\\\ \\vdots \\\\ b_n\n",
    "\\end{pmatrix} \\end{align}\n",
    "\n",
    "In general, if we have a column vector, i.e. a ket-vector:\n",
    "\n",
    "\\begin{align} |A\\rangle = \\begin{pmatrix}\n",
    "a_1 \\\\ a_2 \\\\ \\vdots \\\\ a_n\n",
    "\\end{pmatrix} \\end{align}\n",
    "\n",
    "the corresponding bra-vector:\n",
    "\n",
    "\\begin{align} \\langle A| = \\begin{pmatrix}\n",
    "a_1^*, & a_2^*, & \\cdots, & a_n^*\n",
    "\\end{pmatrix} \\end{align}\n",
    "\n",
    "is the **complex-conjugate transpose** of the ket-vector $|A\\rangle$, and vice-versa. As an example, if we have the following ket-vector:\n",
    "\n",
    "\n",
    "\\begin{align} |A\\rangle = \\begin{pmatrix}\n",
    "2+i \\\\ 1-3i\n",
    "\\end{pmatrix} \\end{align}\n",
    "\n",
    "then the corresponding bra-vector is:\n",
    "\n",
    "\\begin{align} \\langle A| = \\begin{pmatrix}\n",
    "2-i, & 1+3i\n",
    "\\end{pmatrix} \\end{align}\n",
    "\n",
    "The notation $\\langle A|$ and $|A\\rangle$, for bra- and ket-vectors respectively, is a reference to \\emph{inner products} denoted by brackets and we will discuss it more in the next section when we define inner product. As another example, we might want to have a pair of $2$-dimensional complex column vectors (meaning the entries are complex numbers):\\\\\n",
    "\n",
    "\n",
    "\\begin{align} |A \\rangle = \\begin{pmatrix}\n",
    "2-i \\\\ 5\n",
    "\\end{pmatrix}, \\quad \\quad\n",
    "|B \\rangle = \\begin{pmatrix}\n",
    "7 \\\\ 3i\n",
    "\\end{pmatrix} \\end{align}\n",
    "\n",
    "Remember, $i^2 = -1$ and so $i = \\sqrt{-1}$ is imaginary and complex numbers are always of the form $a + bi$. The corresponding bra-vectors would then be:\n",
    "\n",
    "\\begin{align} \\langle A| = \\begin{pmatrix}\n",
    "2+i, & 5\n",
    "\\end{pmatrix}, \\quad \\quad \\langle B| = \\begin{pmatrix}\n",
    "7, & -3i\n",
    "\\end{pmatrix} \\end{align}\n",
    "\n",
    "The $2$-dimensional vectors we have listed above are not quite the kind of vectors we will be using most often in quantum computing, but until we introduce the norm of a vector and explain what unit vectors are, let us focus on the basic operations we can perform on these vectors. We can always add two vector of the same dimension:\n",
    "\n",
    "\\begin{align} |A\\rangle + |B\\rangle = \\begin{pmatrix}\n",
    "2-i \\\\ 5\n",
    "\\end{pmatrix} + \\begin{pmatrix}\n",
    "7 \\\\ 3i\n",
    "\\end{pmatrix} = \n",
    "\\begin{pmatrix}\n",
    "(2-i) + 7 \\\\ 5 + 3i\n",
    "\\end{pmatrix} = \n",
    "\\begin{pmatrix}\n",
    "9-i \\\\ 5 + 3i\n",
    "\\end{pmatrix} \\end{align}\n",
    "\n",
    "In Python this can be done as follows:"
   ]
  },
  {
   "cell_type": "code",
   "execution_count": 14,
   "metadata": {},
   "outputs": [
    {
     "name": "stdout",
     "output_type": "stream",
     "text": [
      "[[9.-1.j]\n",
      " [5.-3.j]]\n"
     ]
    }
   ],
   "source": [
    "ket_A = np.array([[2-1j],\n",
    "                  [5]])\n",
    "ket_B = np.array([[7], \n",
    "                  [-3j]])\n",
    "print(ket_A + ket_B)"
   ]
  },
  {
   "cell_type": "markdown",
   "metadata": {},
   "source": [
    "We can multiply bra-vectors and ket-vectors by scalars:\n",
    "\n",
    "$ 3|A\\rangle = 3 \\begin{pmatrix} 2-i\\\\5 \\end{pmatrix} = \\begin{pmatrix} 6-3i\\\\15 \\end{pmatrix} $"
   ]
  },
  {
   "cell_type": "code",
   "execution_count": 15,
   "metadata": {},
   "outputs": [
    {
     "name": "stdout",
     "output_type": "stream",
     "text": [
      "[[ 6.-3.j]\n",
      " [15.+0.j]]\n"
     ]
    }
   ],
   "source": [
    "print(3*ket_A)"
   ]
  },
  {
   "cell_type": "markdown",
   "metadata": {},
   "source": [
    "Similarly for row vectors (bra-vectors):\n",
    "\n",
    "$ 5\\langle B| = 5 \\begin{pmatrix} 7, & 3i \\end{pmatrix}  = \\begin{pmatrix} 35, & 15i \\end{pmatrix}$"
   ]
  },
  {
   "cell_type": "code",
   "execution_count": 16,
   "metadata": {},
   "outputs": [
    {
     "name": "stdout",
     "output_type": "stream",
     "text": [
      "[35. +0.j  0.+15.j]\n"
     ]
    }
   ],
   "source": [
    "bra_B = np.array([7, 3j])\n",
    "print(5*bra_B)"
   ]
  },
  {
   "cell_type": "markdown",
   "metadata": {},
   "source": [
    "## Inner Products and Norms of Vectors\n",
    "\n",
    "The most important vectors we will encounter will be $2$-dimensional complex vector which are of length $1$. In this section we will define the **inner product** of two vectors, and the **norm** (length) of a vector which is derived from the inner product of the vector with itself. The vectors of length $1$ are sometimes referred to as **unit vectors**. We will discuss complex unit vectors in $2$-dimensional space $\\mathbb{C}^2$ and how they relate to qubits. This will lead to a discussion of the **Bloch sphere** which will be a useful way of understanding qubits and how quantum gates act on them. \n",
    "\n",
    "\n",
    "### Inner Products\n",
    "**Inner Products** are a more general case of the **dot-product**, but for most of our purposes, they can be thought of as the same thing. The most basic case of an inner product and the one we will use the most often can be thought of as the product of a row vector and a column vector of the same dimension:\n",
    "\n",
    "\\begin{align} \\langle A| = \\begin{pmatrix}\n",
    "a_1, & a_2, & \\cdots, & a_n\n",
    "\\end{pmatrix}, \\quad \\quad\n",
    "|B\\rangle = \\begin{pmatrix}\n",
    "b_1 \\\\ b_2 \\\\ \\vdots \\\\ b_n\n",
    "\\end{pmatrix} \\end{align}\n",
    "\n",
    "Taking the inner product of $\\langle A|$ and $|B\\rangle$ gives the following:\n",
    "\n",
    "\\begin{align} \\langle A| B \\rangle &= \\begin{pmatrix} \n",
    "a_1, & a_2, & \\cdots, & a_n\n",
    "\\end{pmatrix}\n",
    "\\begin{pmatrix}\n",
    "b_1 \\\\ b_2 \\\\ \\vdots \\\\ b_n\n",
    "\\end{pmatrix}\\\\\n",
    "&= \n",
    "a_1b_1 + a_2b_2 + \\cdots + a_nb_n\\\\\n",
    "&= \\sum_{i=1}^n a_ib_i\n",
    "\\end{align}"
   ]
  },
  {
   "cell_type": "markdown",
   "metadata": {},
   "source": [
    "As a basic example, take the inner product of the following $2$-dimensional vectors, \n",
    "\n",
    "\n",
    "\\begin{align} \\langle A| = \\begin{pmatrix}\n",
    "3i, & 2\n",
    "\\end{pmatrix}, \\quad \\quad |B\\rangle = \\begin{pmatrix}\n",
    "5+2i \\\\ 1-i\n",
    "\\end{pmatrix} \\end{align}\n",
    "\n",
    "as follows:\n",
    "\n",
    "\\begin{align}\n",
    "\\langle A| B \\rangle = \\begin{pmatrix}\n",
    "3i, & 2\n",
    "\\end{pmatrix}\n",
    "\\begin{pmatrix}\n",
    "5+2i \\\\ 1-i\n",
    "\\end{pmatrix} &= \n",
    "3i(5+2i) + 2(1-i)\\\\ \n",
    "&= 15i-6+2-2i\\\\ \n",
    "&= -4+13i\n",
    "\\end{align}"
   ]
  },
  {
   "cell_type": "markdown",
   "metadata": {},
   "source": [
    "In order to define a complex vector so that we can take its conjugate transpose, also called the **Hermitian conjugate**, we must define it as a **matrix**. So, suppose we have the following column vector (ket-vector):\n",
    "\n",
    "\\begin{align}\n",
    "|A\\rangle = \\begin{pmatrix} 1-i \\\\ 3 \\\\ 2i \\\\ 5+i \\end{pmatrix}\n",
    "\\end{align}\n",
    "\n",
    "Then of course its **Hermitian conjugate** would be the bra-vector\n",
    "\n",
    "\\begin{align}\n",
    "\\langle A| = \\begin{pmatrix}1+i, & 3, & -2i, & 5-i \\end{pmatrix}\n",
    "\\end{align}\n",
    "\n",
    "Now, in Python, we must remember to use \"$j$\" instead of $\"i\"$ for the imaginary unit and we must define the $4 \\times 1$-matrix:"
   ]
  },
  {
   "cell_type": "code",
   "execution_count": 17,
   "metadata": {},
   "outputs": [
    {
     "data": {
      "text/plain": [
       "matrix([[1.+1.j, 3.-0.j, 0.-2.j, 5.-1.j]])"
      ]
     },
     "execution_count": 17,
     "metadata": {},
     "output_type": "execute_result"
    }
   ],
   "source": [
    "# Define the 4x1 matrix version of a column vector (instead of using the np.array() version):\n",
    "A = np.matrix([[1-1j], \n",
    "               [3], \n",
    "               [2j], \n",
    "               [5+1j]])\n",
    "\n",
    "# Compute the Hermitian Conjugate:\n",
    "A.H"
   ]
  },
  {
   "cell_type": "markdown",
   "metadata": {},
   "source": [
    "Now, to compute the inner product $ \\langle A|A \\rangle $ we can simple multiply the two matrix versions just computed:"
   ]
  },
  {
   "cell_type": "code",
   "execution_count": 18,
   "metadata": {},
   "outputs": [
    {
     "data": {
      "text/plain": [
       "matrix([[41.+0.j]])"
      ]
     },
     "execution_count": 18,
     "metadata": {},
     "output_type": "execute_result"
    }
   ],
   "source": [
    "np.dot(A.H, A)"
   ]
  },
  {
   "cell_type": "markdown",
   "metadata": {},
   "source": [
    "Let's define another $4$-dimensional complex row vector $\\langle B|$:\n",
    "\n",
    "\\begin{align}\n",
    "\\langle B| = \\begin{pmatrix}\n",
    "-3i, & 2+2i, & -6i, & -7\n",
    "\\end{pmatrix}\n",
    "\\end{align}\n",
    "\n",
    "Once we have defined this bra-vector, let's compute the following inner products:\n",
    "\n",
    "\\begin{align}\n",
    "\\langle B|A \\rangle, \\quad \\langle B|B \\rangle, \\quad \\langle A|B \\rangle.\n",
    "\\end{align}"
   ]
  },
  {
   "cell_type": "code",
   "execution_count": 19,
   "metadata": {},
   "outputs": [
    {
     "data": {
      "text/plain": [
       "matrix([[-0.+3.j],\n",
       "        [ 2.-2.j],\n",
       "        [-0.+6.j],\n",
       "        [-7.-0.j]])"
      ]
     },
     "execution_count": 19,
     "metadata": {},
     "output_type": "execute_result"
    }
   ],
   "source": [
    "# Define B as a 1x4 matrix\n",
    "B = np.matrix([[-3j, 2+2j, -6j, -7]])\n",
    "\n",
    "#Compute the Hermitian Conjugate of B, which is a ket-vector\n",
    "B.H"
   ]
  },
  {
   "cell_type": "code",
   "execution_count": 20,
   "metadata": {},
   "outputs": [
    {
     "data": {
      "text/plain": [
       "matrix([[-20.-4.j]])"
      ]
     },
     "execution_count": 20,
     "metadata": {},
     "output_type": "execute_result"
    }
   ],
   "source": [
    "# Compute <B|A>\n",
    "np.dot(B,A)"
   ]
  },
  {
   "cell_type": "code",
   "execution_count": 21,
   "metadata": {},
   "outputs": [
    {
     "data": {
      "text/plain": [
       "matrix([[102.+0.j]])"
      ]
     },
     "execution_count": 21,
     "metadata": {},
     "output_type": "execute_result"
    }
   ],
   "source": [
    "# Compute <B|B>\n",
    "np.dot(B, B.H)"
   ]
  },
  {
   "cell_type": "code",
   "execution_count": 22,
   "metadata": {},
   "outputs": [
    {
     "data": {
      "text/plain": [
       "matrix([[-20.+4.j]])"
      ]
     },
     "execution_count": 22,
     "metadata": {},
     "output_type": "execute_result"
    }
   ],
   "source": [
    "# Compute <A|B>\n",
    "np.dot(A.H, B.H)"
   ]
  },
  {
   "cell_type": "markdown",
   "metadata": {},
   "source": [
    "There is a different kind of product on two vectors which we will cover later called the **[outer product](https://en.wikipedia.org/wiki/Outer_product)**. The outer product is a specific case of the tensor product and is written in this case by $ |A\\rangle \\langle A|$. It is important to make this distinction now and note that the two **are not the same**. The **inner product** always yields a number, which can be complex valued if the two vectors are complex valued. The **outer product** in general gives a **matrix**. "
   ]
  },
  {
   "cell_type": "code",
   "execution_count": 23,
   "metadata": {},
   "outputs": [
    {
     "data": {
      "text/plain": [
       "matrix([[ 2. +0.j,  3. -3.j, -2. -2.j,  4. -6.j],\n",
       "        [ 3. +3.j,  9. +0.j,  0. -6.j, 15. -3.j],\n",
       "        [-2. +2.j,  0. +6.j,  4. +0.j,  2.+10.j],\n",
       "        [ 4. +6.j, 15. +3.j,  2.-10.j, 26. +0.j]])"
      ]
     },
     "execution_count": 23,
     "metadata": {},
     "output_type": "execute_result"
    }
   ],
   "source": [
    "np.dot(A, A.H)"
   ]
  },
  {
   "cell_type": "markdown",
   "metadata": {},
   "source": [
    "For the more adventurous who understand how to multiply matrices, and to prepare for future computations where matrices are involved, we will compute a more general \"inner product\". If this does not make any sense to you and matrix multiplication is a foreign concept, we will discuss matrix multiplication in this chapter as a refresher, but now might be a good time to refresh your memory on how to multiply matrices if it is unfamiliar. When we discuss \\emph{measurements} and \\emph{expectation values} we will need to consider the case when there is a matrix in between the bra- and ket-vector. Take for example the Pauli-Z matrix, which we will discuss more later on:\n",
    "\n",
    "\n",
    "\\begin{align} Z = \\begin{pmatrix}\n",
    "1 & 0 \\\\\n",
    "0 & -1\n",
    "\\end{pmatrix} \\end{align}\n",
    "\n",
    "Now take the following bra-vector and ket-vector\n",
    "\n",
    "\n",
    "\\begin{align} \\langle A| = \\begin{pmatrix}\n",
    "i/\\sqrt{2}, & -i/\\sqrt{2}\n",
    "\\end{pmatrix}, \\quad \\quad |A\\rangle = \\begin{pmatrix}\n",
    "-i/\\sqrt{2} \\\\ i/\\sqrt{2}\n",
    "\\end{pmatrix} \\end{align}"
   ]
  },
  {
   "cell_type": "markdown",
   "metadata": {},
   "source": [
    "Now, we can compute the following variation on the inner product\n",
    "\n",
    "\\begin{align}\n",
    "\\langle A| Z |A \\rangle &= \n",
    "\\begin{pmatrix}\n",
    "i/\\sqrt{2}, & -i/\\sqrt{2}\n",
    "\\end{pmatrix}\n",
    "\\begin{pmatrix}\n",
    "1 & 0 \\\\\n",
    "0 & -1\n",
    "\\end{pmatrix}\n",
    "\\begin{pmatrix}\n",
    "-i/\\sqrt{2} \\\\ i/\\sqrt{2}\n",
    "\\end{pmatrix} \\\\\n",
    "&= \\begin{pmatrix}\n",
    "i/\\sqrt{2}, & -i/\\sqrt{2}\n",
    "\\end{pmatrix}\n",
    "\\begin{pmatrix}\n",
    "-i/\\sqrt{2} \\\\ -i/\\sqrt{2}\n",
    "\\end{pmatrix} \\\\\n",
    "&= 1/2 - 1/2 \\\\\n",
    "&= 0\n",
    "\\end{align}\n",
    "\n",
    "We will encounter such calculations many more times when we discuss measurements and expectations. If this is a little confusing, it is not important to worry too much about it just yet. We will cover matrix multiplication shortly, and later we will discuss measurements and expectation values, at which point we should be comfortable computing more general version of this strange \"inner product\". "
   ]
  },
  {
   "cell_type": "markdown",
   "metadata": {},
   "source": [
    "### Exercises"
   ]
  },
  {
   "cell_type": "markdown",
   "metadata": {},
   "source": [
    "1. Define the following ket-vector as an array in Python:\n",
    "\n",
    "\\begin{align}\n",
    "|\\psi \\rangle = \\begin{pmatrix} 2, & 3i \\end{pmatrix}\n",
    "\\end{align}"
   ]
  },
  {
   "cell_type": "markdown",
   "metadata": {},
   "source": [
    "2. Define $|\\psi \\rangle$ from the previous problem as a (column) matrix and compute its Hermitian conjugate. "
   ]
  },
  {
   "cell_type": "markdown",
   "metadata": {},
   "source": [
    "3. Compute the  following inner product by hand:\n",
    "    \n",
    "    $\\begin{pmatrix}\n",
    "    2, & 3i\n",
    "    \\end{pmatrix}\n",
    "    \\begin{pmatrix}\n",
    "    1+i \\\\ 4\n",
    "    \\end{pmatrix}$ "
   ]
  },
  {
   "cell_type": "markdown",
   "metadata": {},
   "source": [
    "4. Write Python code to compute the previous inner product."
   ]
  },
  {
   "cell_type": "markdown",
   "metadata": {},
   "source": [
    "5. Compute the following inner product by hand:\n",
    "\n",
    "    $ \\begin{pmatrix}\n",
    "    3i, & 1+2i, & 4, & 2i\n",
    "    \\end{pmatrix}\n",
    "    \\begin{pmatrix}\n",
    "    5 \\\\ 1-2i \\\\ -3 \\\\ -i/2\n",
    "    \\end{pmatrix} $"
   ]
  },
  {
   "cell_type": "markdown",
   "metadata": {},
   "source": [
    "6. Write Python code to compute the previous inner product. "
   ]
  },
  {
   "cell_type": "markdown",
   "metadata": {},
   "source": [
    "7. For the more adventurous who understand how to multiply matrices, and to prepare for future computations where matrices are involved, compute the following more general \"inner product\":\n",
    "\n",
    "\\begin{align}\n",
    "\\begin{pmatrix}1/\\sqrt{2}, & -1/\\sqrt{2} \\end{pmatrix}\n",
    "\\begin{pmatrix} 1&0\\\\0&-1 \\end{pmatrix}\n",
    "\\begin{pmatrix}1/\\sqrt{2}\\\\ -1/\\sqrt{2} \\end{pmatrix}\n",
    "\\end{align}"
   ]
  },
  {
   "cell_type": "markdown",
   "metadata": {},
   "source": [
    "## Norms and Lengths of Vectors\n",
    "\n",
    "Using the inner product just discussed, we can define a **norm**, which gives us a notion of length for vectors:\n",
    "\n",
    "\\begin{align}\n",
    "\\sqrt{\\langle A|A \\rangle} = \\sqrt{\\sum_{i=1}^n a_i^*a_i}\n",
    "\\end{align}\n",
    "\n",
    "In mathematical texts on linear algebra, vectors are often denote by lower-case bold letters and the norm is often written as $||\\mathbf{v}|| = \\sqrt{\\mathbf{v}^*\\mathbf{v}}$, where $\\mathbf{v}^*$ is the conjugate transpose (bra-vector) of the ket-vector $\\mathbf{v}$. We will use the physics notation throughout this book since it is more commonly used in quantum computing. "
   ]
  },
  {
   "cell_type": "markdown",
   "metadata": {},
   "source": [
    "Using Python to compute the norm, called the **Euclidean norm**, is very simple. Here we first define a ket-vector, compute its Hermitian conjugate, the compute the square root of the inner product:"
   ]
  },
  {
   "cell_type": "code",
   "execution_count": 24,
   "metadata": {},
   "outputs": [
    {
     "name": "stdout",
     "output_type": "stream",
     "text": [
      "[[-0.+2.j  4.-1.j -3.-0.j -0.+6.j]]\n",
      "[[66.+0.j]]\n",
      "[[8.1240384+0.j]]\n"
     ]
    }
   ],
   "source": [
    "A = np.matrix([[-2j], \n",
    "               [4+1j], \n",
    "               [-3], \n",
    "               [-6j]])\n",
    "\n",
    "print(A.H)\n",
    "print(np.dot(A.H, A))\n",
    "print(np.sqrt(np.dot(A.H,A)))"
   ]
  },
  {
   "cell_type": "markdown",
   "metadata": {},
   "source": [
    "All of this can be computed with a single function in NumPy:"
   ]
  },
  {
   "cell_type": "code",
   "execution_count": 25,
   "metadata": {},
   "outputs": [
    {
     "name": "stdout",
     "output_type": "stream",
     "text": [
      "The norm of |A> is: 8.12403840463596\n"
     ]
    }
   ],
   "source": [
    "print('The norm of |A> is:', np.linalg.norm(A))"
   ]
  },
  {
   "cell_type": "markdown",
   "metadata": {},
   "source": [
    "Note, the norm of $\\langle A|$ is equal to the norm of $|A\\rangle$, which is easily seen from the formula defining the norm:"
   ]
  },
  {
   "cell_type": "code",
   "execution_count": 26,
   "metadata": {},
   "outputs": [
    {
     "name": "stdout",
     "output_type": "stream",
     "text": [
      "The norm of <A| is: 8.12403840463596\n"
     ]
    }
   ],
   "source": [
    "print('The norm of <A| is:', np.linalg.norm(A.H))"
   ]
  },
  {
   "cell_type": "markdown",
   "metadata": {},
   "source": [
    "### Exercises"
   ]
  },
  {
   "cell_type": "markdown",
   "metadata": {},
   "source": [
    "1. Compute the norm of \n",
    "\n",
    "\\begin{align}\n",
    "|\\psi \\rangle = \\begin{pmatrix}\n",
    "1 \\\\ -4i \\\\ 3+i \\\\ -7\n",
    "\\end{pmatrix}\n",
    "\\end{align}\n",
    "\n",
    "by first defining it as a column matrix, computing the Hermitian conjugate \"$A.H$\", taking the inner product of $A.H$ and $A$ using the \"np.dot()\" function, and then computing the square root. "
   ]
  },
  {
   "cell_type": "markdown",
   "metadata": {},
   "source": [
    "2. Now, compute the norm of \n",
    "\n",
    "\\begin{align}\n",
    "|\\psi \\rangle = \\begin{pmatrix}\n",
    "1 \\\\ -4i \\\\ 3+i \\\\ -7\n",
    "\\end{pmatrix}\n",
    "\\end{align}\n",
    "\n",
    "using the \"np.linalg.norm()\" function. "
   ]
  },
  {
   "cell_type": "markdown",
   "metadata": {},
   "source": [
    "## Qubits, the Bloch Sphere, and Basis States"
   ]
  },
  {
   "cell_type": "markdown",
   "metadata": {},
   "source": [
    "Qubits are the basic unit of computation in a quantum computer, much like bits are the basic unit of computation in a \"classical\" computer. In bit based computing we have silicon chips with transistors which serve as \"on/off\" switches that serve as building blocks for complex systems of logic gates implementing Boolean logic. In a quantum computer, these \"on/off\" bits represented by strings of 0s and 1s are replaced by **qubits**. Qubits behave much differently from classical bits, but any classical computation involving bits can still be implemented on a quantum system of qubits. However, much more can be done qubits. They provide computational abilities that bits, classical computing, and classical information processing simply cannot replicate or accurately simulate. In some cases there are quantum information processes which provide a new paradigm for understanding information theory and computational complexity. Here we will focus on the basics and leave quantum complexity and subjects like entanglement entropy for the appendix at the end of the book on **tensor networks**. \n",
    "\n",
    "Qubits have many representations, the most common of them being as a $2$-dimensional complex unit vector: \n",
    "\n",
    "\\begin{align}\n",
    "|\\psi \\rangle = \\begin{pmatrix}\n",
    "\\alpha \\\\ \\beta\n",
    "\\end{pmatrix}, \\quad \\text{where } \\sqrt{\\langle \\psi | \\psi \\rangle} = 1. \n",
    "\\end{align}\n",
    "\n",
    "From the condition that the vector be of length one, we can deduce the following:\n",
    "\n",
    "\\begin{align}\n",
    "\\sqrt{\\langle \\psi | \\psi \\rangle} &= \\begin{pmatrix} \\alpha^*, & \\beta^* \\end{pmatrix}\\begin{pmatrix} \\alpha \\\\ \\beta \\end{pmatrix} \\\\\n",
    "&= \\sqrt{\\alpha^* \\alpha+ \\beta^* \\beta}\\\\\n",
    "&= \\sqrt{|\\alpha|^2 +|\\beta|^2} = 1 \\implies |\\alpha|^2 +|\\beta|^2 = 1. \n",
    "\\end{align}\n",
    "\n",
    "Remember, $\\alpha$ and $\\beta$ are complex numbers (elements of $\\mathbb{C}$), and so the vector $|\\psi \\rangle \\in \\mathbb{C}^2$. The vectors representing qubit **[pure states](https://en.wikipedia.org/wiki/Quantum_state#Pure_states)** actually live on the **Riemann sphere** also called the **[complex projective line](https://en.wikipedia.org/wiki/Riemann_sphere#As_the_complex_projective_line)** $\\mathbb{P}^1(\\mathbb{C})$. \n",
    "\n",
    "The second representation, which comes from the representation of pure states as points on the Riemann sphere and that is very common in the literature and in software packages for quantum computing is via the **[Bloch sphere](https://en.wikipedia.org/wiki/Bloch_sphere)**, named after the Nobel laureate and physicist [Felix Bloch](https://en.wikipedia.org/wiki/Felix_Bloch). Generally, the south pole represents the basis state \n",
    "\n",
    "\\begin{align}\n",
    "|0\\rangle = \\begin{pmatrix} 1\\\\0 \\end{pmatrix}\n",
    "\\end{align}"
   ]
  },
  {
   "attachments": {
    "quantum_state_0.png": {
     "image/png": "[encoded data removed]"
    }
   },
   "cell_type": "markdown",
   "metadata": {},
   "source": [
    "![quantum_state_0.png](quantum_state_0.png)"
   ]
  },
  {
   "cell_type": "markdown",
   "metadata": {},
   "source": [
    "The north pole represents the basis state\n",
    "\n",
    "\\begin{align}\n",
    "|1\\rangle = \\begin{pmatrix} 0\\\\1 \\end{pmatrix}\n",
    "\\end{align}"
   ]
  },
  {
   "cell_type": "markdown",
   "metadata": {},
   "source": [
    "![quantum_state_1.png](quantum_state_1.png)"
   ]
  },
  {
   "cell_type": "markdown",
   "metadata": {},
   "source": [
    "We can also form linear combinations of the two basis states:\n",
    "    \n",
    "\\begin{align}\n",
    "\\alpha |0\\rangle + \\beta |1 \\rangle = \\begin{pmatrix} \\alpha \\\\ \\beta \\end{pmatrix}\n",
    "\\end{align}\n",
    "\n",
    "The coefficients $\\alpha$ and $\\beta$, which always satify the condition we derived $|\\alpha|^2+|\\beta|^2 = 1$, the corresponding point on the Bloch sphere will move to some other location. "
   ]
  },
  {
   "cell_type": "markdown",
   "metadata": {},
   "source": [
    "### Common Basis States"
   ]
  },
  {
   "cell_type": "markdown",
   "metadata": {},
   "source": [
    "The $x$-axis, $y$-axis, and $z$-axis define three **bases** in which to perform computation. The $z$-axis is the standard computational basis. This is the \"spin-up/spin-down\" states and the other basis states can be defined in terms of this basis. Really any of the basis states can be defined in terms of the others, but generally one starts with the $z$-axis basis $|0\\rangle$ and $|1\\rangle$. "
   ]
  },
  {
   "cell_type": "markdown",
   "metadata": {},
   "source": [
    "#### Spin-up/Spin-down (z-axis)\n",
    "\n",
    "\\begin{align}\n",
    "\\text{spin-down}: \\ |0\\rangle &= \\begin{pmatrix} 1\\\\0 \\end{pmatrix} \\\\\n",
    "\\text{spin-up}: \\ |1\\rangle & = \\begin{pmatrix} 0\\\\1 \\end{pmatrix}\n",
    "\\end{align}"
   ]
  },
  {
   "cell_type": "markdown",
   "metadata": {},
   "source": [
    "#### Spin-right/Spin-left (x-axis)\n",
    "\n",
    "\\begin{align}\n",
    "\\text{spin-right}: \\ |r\\rangle &= \\begin{pmatrix} 1/\\sqrt{2} \\\\ 1/\\sqrt{2} \\end{pmatrix} = \\frac{1}{\\sqrt{2}} \\left(|0\\rangle + |1\\rangle\\right) \\\\\n",
    "\\text{spin-left}: \\ |l\\rangle & = \\begin{pmatrix} 1/\\sqrt{2} \\\\ -1/\\sqrt{2} \\end{pmatrix} = \\frac{1}{\\sqrt{2}} \\left(|0\\rangle - |1\\rangle\\right)\n",
    "\\end{align}"
   ]
  },
  {
   "cell_type": "markdown",
   "metadata": {},
   "source": [
    "#### Spin +/Spin - (y-axis)\n",
    "\n",
    "\\begin{align}\n",
    "\\text{spin +}: \\ |+\\rangle &= \\begin{pmatrix} 1/\\sqrt{2} \\\\ i/\\sqrt{2} \\end{pmatrix} = \\frac{1}{\\sqrt{2}} \\left(|0\\rangle + i|1\\rangle\\right) \\\\\n",
    "\\text{spin -}: \\ |-\\rangle & = \\begin{pmatrix} 1/\\sqrt{2} \\\\ -i/\\sqrt{2} \\end{pmatrix} = \\frac{1}{\\sqrt{2}} \\left(|0\\rangle - i|1\\rangle\\right)\n",
    "\\end{align}"
   ]
  },
  {
   "cell_type": "markdown",
   "metadata": {},
   "source": [
    "#### Arbitrary Pure State\n",
    "\n",
    "An arbitrary pure state is represented as some linear combination:\n",
    "\n",
    "\\begin{align}\n",
    "|\\psi \\rangle =\n",
    "\\begin{pmatrix}\n",
    "\\alpha \\\\ \\beta\n",
    "\\end{pmatrix} = \\alpha |0\\rangle + \\beta |1\\rangle\n",
    "\\end{align}"
   ]
  },
  {
   "attachments": {
    "Bloch_sphere.png": {
     "image/png": "[encoded data removed]"
    }
   },
   "cell_type": "markdown",
   "metadata": {},
   "source": [
    "![Bloch_sphere.png](Bloch_sphere.png)"
   ]
  },
  {
   "cell_type": "markdown",
   "metadata": {},
   "source": [
    "This image was taken from [Quantum Inspire](https://www.quantum-inspire.com/kbase/bloch-sphere/)."
   ]
  },
  {
   "cell_type": "markdown",
   "metadata": {},
   "source": [
    "We can define the six basis states in Python as follows:"
   ]
  },
  {
   "cell_type": "code",
   "execution_count": 27,
   "metadata": {},
   "outputs": [
    {
     "name": "stdout",
     "output_type": "stream",
     "text": [
      "spin down: [[1]\n",
      " [0]]\n",
      "spin up: [[0]\n",
      " [1]]\n",
      "spin right: [[0.70710678]\n",
      " [0.70710678]]\n",
      "spin left: [[ 0.70710678]\n",
      " [-0.70710678]]\n",
      "spin plus: [[0.70710678+0.j        ]\n",
      " [0.        +0.70710678j]]\n",
      "spin minus: [[0.70710678+0.j        ]\n",
      " [0.        -0.70710678j]]\n"
     ]
    }
   ],
   "source": [
    "spin_down = np.matrix([[1], \n",
    "                       [0]])\n",
    "\n",
    "spin_up = np.matrix([[0],\n",
    "                     [1]])\n",
    "\n",
    "spin_right = (1/np.sqrt(2))*(spin_down + spin_up)\n",
    "\n",
    "spin_left = (1/np.sqrt(2))*(spin_down - spin_up)\n",
    "\n",
    "spin_plus = (1/np.sqrt(2))*(spin_down + 1j*spin_up)\n",
    "\n",
    "spin_minus = (1/np.sqrt(2))*(spin_down - 1j*spin_up)\n",
    "\n",
    "print('spin down:', spin_down)\n",
    "print('spin up:', spin_up)\n",
    "print('spin right:', spin_right)\n",
    "print('spin left:', spin_left)\n",
    "print('spin plus:', spin_plus)\n",
    "print('spin minus:', spin_minus)"
   ]
  },
  {
   "cell_type": "markdown",
   "metadata": {},
   "source": [
    "We can now compute inner products like $\\langle 0|0 \\rangle$ and $\\langle l | r \\rangle$:"
   ]
  },
  {
   "cell_type": "code",
   "execution_count": 28,
   "metadata": {},
   "outputs": [
    {
     "data": {
      "text/plain": [
       "matrix([[1]])"
      ]
     },
     "execution_count": 28,
     "metadata": {},
     "output_type": "execute_result"
    }
   ],
   "source": [
    "np.dot(spin_down.H, spin_down)"
   ]
  },
  {
   "cell_type": "code",
   "execution_count": 29,
   "metadata": {},
   "outputs": [
    {
     "data": {
      "text/plain": [
       "matrix([[0.]])"
      ]
     },
     "execution_count": 29,
     "metadata": {},
     "output_type": "execute_result"
    }
   ],
   "source": [
    "np.dot(spin_left.H, spin_right)"
   ]
  },
  {
   "cell_type": "markdown",
   "metadata": {},
   "source": [
    "### Exercises"
   ]
  },
  {
   "cell_type": "markdown",
   "metadata": {},
   "source": [
    "Use the above code defining the six basis states to compute:"
   ]
  },
  {
   "cell_type": "markdown",
   "metadata": {},
   "source": [
    "1. $\\langle 0 | 1 \\rangle$\n",
    "2. $\\langle 1 | 0 \\rangle$ \n",
    "3. $\\langle 1 | 1 \\rangle$\n",
    "4. $\\langle r | l \\rangle$\n",
    "5. $\\langle l | r \\rangle$\n",
    "6. $\\langle r | r \\rangle$\n",
    "7. $\\langle l | l \\rangle$\n",
    "8. $\\langle + | - \\rangle$\n",
    "9. $\\langle + | r \\rangle$\n",
    "10. $\\langle - | l \\rangle$\n",
    "11. $\\langle 0 | r \\rangle$\n",
    "12. $\\langle l | 1 \\rangle$\n",
    "13. $\\langle 0 | + \\rangle$\n",
    "14. $\\langle - | - \\rangle$\n",
    "15. $\\langle - | r \\rangle$"
   ]
  },
  {
   "cell_type": "markdown",
   "metadata": {},
   "source": [
    "## Tensor Products of Vectors"
   ]
  },
  {
   "cell_type": "markdown",
   "metadata": {},
   "source": [
    "One of the most common tensor products we will encounter throughout the following chapters of the book will be the tensor product of two qubits, which are represented by $2$-dimensional vector which have length (or \"norm\") $1$.\n",
    "\n",
    "The general rule for the tensor product of two $2$-dimensional vectors is as follows:\n",
    "\n",
    "\\begin{align}\n",
    "\\begin{pmatrix}\n",
    "a_1 \\\\ a_2\n",
    "\\end{pmatrix} \\otimes\n",
    "\\begin{pmatrix}\n",
    "b_1 \\\\ b_2\n",
    "\\end{pmatrix} = \n",
    "\\begin{pmatrix}\n",
    "a_1 \\begin{pmatrix}\n",
    "b_1 \\\\ b_2\n",
    "\\end{pmatrix} \\\\ a_2 \\begin{pmatrix}\n",
    "b_1 \\\\ b_2\n",
    "\\end{pmatrix}\n",
    "\\end{pmatrix} = \n",
    "\\begin{pmatrix}\n",
    "a_1b_1 \\\\ a_1b_2 \\\\ a_2b_1 \\\\ a_2b_2\n",
    "\\end{pmatrix}\n",
    "\\end{align}"
   ]
  },
  {
   "cell_type": "markdown",
   "metadata": {},
   "source": [
    "Here is a numerical example:"
   ]
  },
  {
   "cell_type": "markdown",
   "metadata": {},
   "source": [
    "\\begin{align}\n",
    "\\begin{pmatrix}\n",
    "2 \\\\ 5\n",
    "\\end{pmatrix} \\otimes \n",
    "\\begin{pmatrix}\n",
    "3 \\\\ 1\n",
    "\\end{pmatrix} = \n",
    "\\begin{pmatrix}\n",
    "2 \\begin{pmatrix}\n",
    "3 \\\\ 1\n",
    "\\end{pmatrix} \\\\ 5 \\begin{pmatrix}\n",
    "3 \\\\ 1\n",
    "\\end{pmatrix}\n",
    "\\end{pmatrix} = \n",
    "\\begin{pmatrix}\n",
    "2 \\cdot 3 \\\\ 2 \\cdot 1 \\\\ 5 \\cdot 3 \\\\ 5 \\cdot 1\n",
    "\\end{pmatrix} = \n",
    "\\begin{pmatrix}\n",
    "6 \\\\ 2 \\\\ 15 \\\\ 5\n",
    "\\end{pmatrix}\n",
    "\\end{align}"
   ]
  },
  {
   "cell_type": "markdown",
   "metadata": {},
   "source": [
    "For an example using Python we will use the \"np.kron()\" function, which is the [Kronecker product](https://en.wikipedia.org/wiki/Kronecker_product), \n",
    "\n",
    "> \"In mathematics, the Kronecker product, sometimes denoted by ⊗, is an operation on two matrices of arbitrary size resulting in a block matrix. It is a generalization of the outer product (which is denoted by the same symbol) from vectors to matrices, and gives the matrix of the tensor product with respect to a standard choice of basis. The Kronecker product should not be confused with the usual matrix multiplication, which is an entirely different operation.\""
   ]
  },
  {
   "cell_type": "code",
   "execution_count": 30,
   "metadata": {},
   "outputs": [
    {
     "data": {
      "text/plain": [
       "array([[ 6],\n",
       "       [ 2],\n",
       "       [15],\n",
       "       [ 5]])"
      ]
     },
     "execution_count": 30,
     "metadata": {},
     "output_type": "execute_result"
    }
   ],
   "source": [
    "# Define two ket-vectors\n",
    "\n",
    "A = np.array([[2], \n",
    "              [5]])\n",
    "\n",
    "B = np.array([[3],\n",
    "              [1]])\n",
    "\n",
    "# Take the Kronecker (tensor) product of the two column vectors\n",
    "np.kron(A,B)"
   ]
  },
  {
   "cell_type": "markdown",
   "metadata": {},
   "source": [
    "We can also define these two vectors as matrices which will allow us to compute Hermitian conjugates. The Kronecker product function 'np.kron()' will work all the same:"
   ]
  },
  {
   "cell_type": "code",
   "execution_count": 31,
   "metadata": {},
   "outputs": [
    {
     "data": {
      "text/plain": [
       "matrix([[ 6],\n",
       "        [ 2],\n",
       "        [15],\n",
       "        [ 5]])"
      ]
     },
     "execution_count": 31,
     "metadata": {},
     "output_type": "execute_result"
    }
   ],
   "source": [
    "# Define the ket-vectors as 2x1 column matrices:\n",
    "ket_A = np.matrix([[2], \n",
    "                   [5]])\n",
    "\n",
    "ket_B = np.matrix([[3], \n",
    "                   [1]])\n",
    "\n",
    "# Compute their Kronecker product\n",
    "np.kron(ket_A, ket_B)"
   ]
  },
  {
   "cell_type": "markdown",
   "metadata": {},
   "source": [
    "This can also be done with complex vectors:"
   ]
  },
  {
   "cell_type": "code",
   "execution_count": 32,
   "metadata": {},
   "outputs": [
    {
     "data": {
      "text/plain": [
       "matrix([[-6. +3.j],\n",
       "        [ 6. -8.j],\n",
       "        [-0. -9.j],\n",
       "        [ 6.+12.j]])"
      ]
     },
     "execution_count": 32,
     "metadata": {},
     "output_type": "execute_result"
    }
   ],
   "source": [
    "# Define the ket-vectors as 2x1 column matrices:\n",
    "ket_psi = np.matrix([[2-1j], \n",
    "                     [3j]])\n",
    "\n",
    "ket_phi = np.matrix([[-3], \n",
    "                     [4-2j]])\n",
    "\n",
    "# Compute their Kronecker product\n",
    "np.kron(ket_psi, ket_phi)"
   ]
  },
  {
   "cell_type": "markdown",
   "metadata": {},
   "source": [
    "Here is a more complicated example with two vectors of different dimensions:"
   ]
  },
  {
   "cell_type": "markdown",
   "metadata": {},
   "source": [
    "\n",
    "\\begin{align}\n",
    "\\begin{pmatrix}\n",
    "a_1 \\\\ a_2\n",
    "\\end{pmatrix} \\otimes \n",
    "\\begin{pmatrix}\n",
    "b_1 \\\\ b_2 \\\\ b_3\n",
    "\\end{pmatrix} = \n",
    "\\begin{pmatrix}\n",
    "a_1 \\begin{pmatrix}\n",
    "b_1 \\\\ b_2 \\\\ b_3\n",
    "\\end{pmatrix} \\\\\n",
    "a_2 \\begin{pmatrix}\n",
    "b_1 \\\\ b_2 \\\\ b_3\n",
    "\\end{pmatrix}\n",
    "\\end{pmatrix} = \n",
    "\\begin{pmatrix}\n",
    "a_1b_1 \\\\ a_1b_2 \\\\ a_1b_3 \\\\ a_2b_1 \\\\ a_2b_2 \\\\ a_2b_3\n",
    "\\end{pmatrix}\n",
    "\\end{align}"
   ]
  },
  {
   "cell_type": "markdown",
   "metadata": {},
   "source": [
    "Here is a corresponding numerical example:\n",
    "\n",
    "\\begin{align}\n",
    "\\begin{pmatrix}\n",
    "1 \\\\ 4\n",
    "\\end{pmatrix} \\otimes \n",
    "\\begin{pmatrix}\n",
    "5 \\\\ 2 \\\\ 4\n",
    "\\end{pmatrix} = \n",
    "\\begin{pmatrix}\n",
    "1 \\begin{pmatrix}\n",
    "5 \\\\ 2 \\\\ 4\n",
    "\\end{pmatrix} \\\\\n",
    "4 \\begin{pmatrix}\n",
    "5 \\\\ 2 \\\\ 4\n",
    "\\end{pmatrix}\n",
    "\\end{pmatrix} = \n",
    "\\begin{pmatrix}\n",
    "5 \\\\ 2 \\\\ 4 \\\\ 20 \\\\ 8 \\\\ 16\n",
    "\\end{pmatrix}\n",
    "\\end{align} "
   ]
  },
  {
   "cell_type": "markdown",
   "metadata": {},
   "source": [
    "Here is the code for computing this tensor product:"
   ]
  },
  {
   "cell_type": "code",
   "execution_count": 33,
   "metadata": {},
   "outputs": [
    {
     "data": {
      "text/plain": [
       "matrix([[ 5],\n",
       "        [ 2],\n",
       "        [ 4],\n",
       "        [20],\n",
       "        [ 8],\n",
       "        [16]])"
      ]
     },
     "execution_count": 33,
     "metadata": {},
     "output_type": "execute_result"
    }
   ],
   "source": [
    "ket_X = np.matrix([[1], \n",
    "                   [4]])\n",
    "\n",
    "ket_Y = np.matrix([[5], \n",
    "                   [2], \n",
    "                   [4]])\n",
    "\n",
    "np.kron(ket_X, ket_Y)"
   ]
  },
  {
   "cell_type": "markdown",
   "metadata": {},
   "source": [
    "### Exercises"
   ]
  },
  {
   "cell_type": "markdown",
   "metadata": {},
   "source": [
    "1. Using the following rule, \n",
    "\\begin{align}\n",
    "\\begin{pmatrix}\n",
    "a_1 \\\\ a_2 \\\\ a_3\n",
    "\\end{pmatrix} \\otimes\n",
    "\\begin{pmatrix}\n",
    "b_1 \\\\ b_2\n",
    "\\end{pmatrix} = \n",
    "\\begin{pmatrix}\n",
    "a_1 \\begin{pmatrix}\n",
    "b_1 \\\\ b_2\n",
    "\\end{pmatrix} \\\\ a_2\\begin{pmatrix}\n",
    "b_1 \\\\ b_2\n",
    "\\end{pmatrix} \\\\ a_3\\begin{pmatrix}\n",
    "b_1 \\\\ b_2\n",
    "\\end{pmatrix}\n",
    "\\end{pmatrix} = \n",
    "\\begin{pmatrix}\n",
    "a_1b_1 \\\\ a_1b_2 \\\\ a_2b_1 \\\\ a_2b_2 \\\\ a_3b_1 \\\\ a_3b_2\n",
    "\\end{pmatrix}\n",
    "\\end{align}\n",
    "\n",
    "compute the following tensor/Kroneckar product by hand:\n",
    "\n",
    "\\begin{align}\n",
    "\\begin{pmatrix}\n",
    "2 \\\\ 7 \\\\ 3\n",
    "\\end{pmatrix} \\otimes\n",
    "\\begin{pmatrix}\n",
    "5 \\\\ 9\n",
    "\\end{pmatrix}\n",
    "\\end{align}\n"
   ]
  },
  {
   "cell_type": "markdown",
   "metadata": {},
   "source": [
    "2. Write Python code to compute the above computation using the 'np.kron()' function. Remember to define two column (ket) vectors as matrices first.  "
   ]
  },
  {
   "cell_type": "markdown",
   "metadata": {},
   "source": [
    "3. Derive a general rule for the following tensor product by performing the tensor product inside the parenthesis first:\n",
    "\n",
    "\\begin{align}\n",
    "\\left( \\begin{pmatrix}\n",
    "a_1 \\\\ a_2\n",
    "\\end{pmatrix} \\otimes \n",
    "\\begin{pmatrix}\n",
    "b_1 \\\\ b_2\n",
    "\\end{pmatrix}\\right) \\otimes \n",
    "\\begin{pmatrix}\n",
    "c_1 \\\\ c_2\n",
    "\\end{pmatrix}\n",
    "\\end{align}"
   ]
  },
  {
   "cell_type": "markdown",
   "metadata": {},
   "source": [
    "4. Now derive a general rule for the following tensor product by performing the tensor product in the parenthesis first:\n",
    "\n",
    "\\begin{align}\n",
    "\\begin{pmatrix}\n",
    "a_1 \\\\ a_2\n",
    "\\end{pmatrix} \\otimes \n",
    "\\left( \\begin{pmatrix}\n",
    "b_1 \\\\ b_2\n",
    "\\end{pmatrix} \\otimes \n",
    "\\begin{pmatrix}\n",
    "c_1 \\\\ c_2\n",
    "\\end{pmatrix}\\right)\n",
    "\\end{align}\n",
    "\n",
    "Convince yourself that your results from the previous two computations are in fact equal."
   ]
  },
  {
   "cell_type": "markdown",
   "metadata": {},
   "source": [
    "5. Write Python code to compute $|0\\rangle \\otimes |0 \\rangle $. \n",
    "6. Write Python code to compute $|0\\rangle \\otimes |1 \\rangle $. \n",
    "7. Write Python code to compute $|1\\rangle \\otimes |0 \\rangle $.\n",
    "8. Write Python code to compute $|1\\rangle \\otimes |1 \\rangle $."
   ]
  },
  {
   "cell_type": "markdown",
   "metadata": {},
   "source": [
    "## Preparing Basis States in PennyLane"
   ]
  },
  {
   "cell_type": "markdown",
   "metadata": {},
   "source": [
    "In PennyLane, and other quantum computing software, we often want to prepare basis states. This is something we will return to again in the future when we study specific cases of quantum circuits, but having some basic introduction to state preparation now seems appropriate since the are simply tensor products of the basis states $|0\\rangle$ and $|1\\rangle$. In particular, we can prepare states like\n",
    "\n",
    "\\begin{align}\n",
    "|00 \\rangle &= |0\\rangle \\otimes |0\\rangle = \\begin{pmatrix} 1\\\\0 \\end{pmatrix} \\otimes \\begin{pmatrix} 1\\\\0 \\end{pmatrix} = \\begin{pmatrix} 1\\\\0\\\\0\\\\0 \\end{pmatrix} \\\\\n",
    "|01 \\rangle &= |0\\rangle \\otimes |1\\rangle = \\begin{pmatrix} 1\\\\0 \\end{pmatrix} \\otimes \\begin{pmatrix} 0\\\\1 \\end{pmatrix} = \\begin{pmatrix} 0\\\\1\\\\0\\\\0 \\end{pmatrix} \\\\\n",
    "|10 \\rangle &= |1\\rangle \\otimes |0\\rangle = \\begin{pmatrix} 0\\\\1 \\end{pmatrix} \\otimes \\begin{pmatrix} 1\\\\0 \\end{pmatrix} = \\begin{pmatrix} 0\\\\0\\\\1\\\\0 \\end{pmatrix} \\\\\n",
    "|11 \\rangle &= |1\\rangle \\otimes |1\\rangle = \\begin{pmatrix} 0\\\\1 \\end{pmatrix} \\otimes \\begin{pmatrix} 0\\\\1 \\end{pmatrix} = \\begin{pmatrix} 0\\\\0\\\\0\\\\1 \\end{pmatrix}\n",
    "\\end{align}"
   ]
  },
  {
   "cell_type": "code",
   "execution_count": 34,
   "metadata": {},
   "outputs": [
    {
     "name": "stdout",
     "output_type": "stream",
     "text": [
      "|00> =\n",
      "[[1]\n",
      " [0]\n",
      " [0]\n",
      " [0]]\n"
     ]
    }
   ],
   "source": [
    "# Define the basis states:\n",
    "\n",
    "down_down = np.kron(spin_down, spin_down)\n",
    "down_up = np.kron(spin_down, spin_up)\n",
    "up_down = np.kron(spin_up, spin_down)\n",
    "up_up = np.kron(spin_up, spin_up)\n",
    "\n",
    "# Print the first state:\n",
    "print('|00> =')\n",
    "print(down_down)"
   ]
  },
  {
   "cell_type": "code",
   "execution_count": 35,
   "metadata": {},
   "outputs": [
    {
     "name": "stdout",
     "output_type": "stream",
     "text": [
      "|01> =\n",
      "[[0]\n",
      " [1]\n",
      " [0]\n",
      " [0]]\n"
     ]
    }
   ],
   "source": [
    "# Print the second state:\n",
    "print('|01> =')\n",
    "print(down_up)"
   ]
  },
  {
   "cell_type": "code",
   "execution_count": 36,
   "metadata": {},
   "outputs": [
    {
     "name": "stdout",
     "output_type": "stream",
     "text": [
      "|10> =\n",
      "[[0]\n",
      " [0]\n",
      " [1]\n",
      " [0]]\n"
     ]
    }
   ],
   "source": [
    "# Print the third state:\n",
    "print('|10> =') \n",
    "print(up_down)"
   ]
  },
  {
   "cell_type": "code",
   "execution_count": 37,
   "metadata": {},
   "outputs": [
    {
     "name": "stdout",
     "output_type": "stream",
     "text": [
      "|11> =\n",
      "[[0]\n",
      " [0]\n",
      " [0]\n",
      " [1]]\n"
     ]
    }
   ],
   "source": [
    "# Print the fourth state:\n",
    "print('|11> =') \n",
    "print(up_up)"
   ]
  },
  {
   "cell_type": "markdown",
   "metadata": {},
   "source": [
    "Taking this further, we can define states like:\n",
    "    \n",
    "\\begin{align}\n",
    "|000\\rangle = |0\\rangle \\otimes |0\\rangle \\otimes |0\\rangle = \\begin{pmatrix} 1\\\\0\\\\0\\\\0\\\\0\\\\0\\\\0\\\\0 \\end{pmatrix}\n",
    "\\end{align}\n",
    "\n",
    "\\begin{align}\n",
    "|010\\rangle = |0\\rangle \\otimes |1\\rangle \\otimes |0\\rangle = \\begin{pmatrix} 0\\\\0\\\\1\\\\0\\\\0\\\\0\\\\0\\\\0 \\end{pmatrix}\n",
    "\\end{align}"
   ]
  },
  {
   "cell_type": "markdown",
   "metadata": {},
   "source": [
    "In PennyLane the following code prepares defines a device (quantum computer or simulator) on which to run code. We will use the default simulator for now since the code is very simple and running it on an actual quantum computer is unnecessary:"
   ]
  },
  {
   "cell_type": "code",
   "execution_count": 38,
   "metadata": {},
   "outputs": [],
   "source": [
    "dev = qml.device(\"default.qubit\", wires=2, shots=1)"
   ]
  },
  {
   "cell_type": "markdown",
   "metadata": {},
   "source": [
    "Now we can define an array that corresponds to the basis state $|00\\rangle$:"
   ]
  },
  {
   "cell_type": "code",
   "execution_count": 39,
   "metadata": {},
   "outputs": [],
   "source": [
    "dd = np.array([0, 0])"
   ]
  },
  {
   "cell_type": "markdown",
   "metadata": {},
   "source": [
    "Now, we define a 'qnode' in PennyLane that samples the qubits and gives a $+1$ for spin-down and a $-1$ for spin up:"
   ]
  },
  {
   "cell_type": "code",
   "execution_count": 40,
   "metadata": {},
   "outputs": [
    {
     "name": "stdout",
     "output_type": "stream",
     "text": [
      "[[1]\n",
      " [1]]\n"
     ]
    }
   ],
   "source": [
    "@qml.qnode(dev)\n",
    "def circuit():\n",
    "    qml.BasisState(dd, wires=[0, 1])\n",
    "    return qml.sample(qml.PauliZ(0)), qml.sample(qml.PauliZ(1))\n",
    "\n",
    "print(circuit())"
   ]
  },
  {
   "cell_type": "markdown",
   "metadata": {},
   "source": [
    "The vector above show a $+1$ in the first and second entry meaning it is measuring two spin-up states. Let's define a new state to prepare corresponding to $|01 \\rangle$:"
   ]
  },
  {
   "cell_type": "code",
   "execution_count": 41,
   "metadata": {},
   "outputs": [],
   "source": [
    "du = np.array([0,1])"
   ]
  },
  {
   "cell_type": "markdown",
   "metadata": {},
   "source": [
    "Next, let's define a new 'qnode' do sample corresponding to this prepared state:"
   ]
  },
  {
   "cell_type": "code",
   "execution_count": 42,
   "metadata": {},
   "outputs": [
    {
     "name": "stdout",
     "output_type": "stream",
     "text": [
      "[[ 1]\n",
      " [-1]]\n"
     ]
    }
   ],
   "source": [
    "@qml.qnode(dev)\n",
    "def circuit():\n",
    "    qml.BasisState(du, wires=[0, 1])\n",
    "    return qml.sample(qml.PauliZ(0)), qml.sample(qml.PauliZ(1))\n",
    "\n",
    "print(circuit())"
   ]
  },
  {
   "cell_type": "markdown",
   "metadata": {},
   "source": [
    "As we can see, we get a $+1$ in the first component, corresponding to the spin-down state, and we get a $-1$ in the second component corresponding to the spin-up state. We can also tell PennyLane to perform multiple \"shots\" or samples:"
   ]
  },
  {
   "cell_type": "code",
   "execution_count": 43,
   "metadata": {},
   "outputs": [],
   "source": [
    "dev2 = qml.device(\"default.qubit\", wires=2, shots=10)"
   ]
  },
  {
   "cell_type": "markdown",
   "metadata": {},
   "source": [
    "If we define a new array corresponting to the state $|11\\rangle$:"
   ]
  },
  {
   "cell_type": "code",
   "execution_count": 44,
   "metadata": {},
   "outputs": [],
   "source": [
    "uu = np.array([1,1])"
   ]
  },
  {
   "cell_type": "markdown",
   "metadata": {},
   "source": [
    "We can define a new 'qnode' with the new device we just defined, and we should expect an output vector of \n",
    "\n",
    "\\begin{align}\n",
    "\\begin{pmatrix}\n",
    "-1\\\\-1\n",
    "\\end{pmatrix}\n",
    "\\end{align}\n",
    "\n",
    "ten times, corresponding to the ten samples:"
   ]
  },
  {
   "cell_type": "code",
   "execution_count": 45,
   "metadata": {},
   "outputs": [
    {
     "name": "stdout",
     "output_type": "stream",
     "text": [
      "[[-1 -1 -1 -1 -1 -1 -1 -1 -1 -1]\n",
      " [-1 -1 -1 -1 -1 -1 -1 -1 -1 -1]]\n"
     ]
    }
   ],
   "source": [
    "@qml.qnode(dev2)\n",
    "def circuit():\n",
    "    qml.BasisState(uu, wires=[0, 1])\n",
    "    return qml.sample(qml.PauliZ(0)), qml.sample(qml.PauliZ(1))\n",
    "\n",
    "print(circuit())"
   ]
  },
  {
   "cell_type": "markdown",
   "metadata": {},
   "source": [
    "We will return to this when we discuss measurements and expectation values. "
   ]
  },
  {
   "cell_type": "markdown",
   "metadata": {},
   "source": [
    "### Exercises"
   ]
  },
  {
   "cell_type": "markdown",
   "metadata": {},
   "source": [
    "#### Write code to compute the following basis states:\n",
    "\n",
    "1. $|000 \\rangle$\n",
    "2. $|001 \\rangle$\n",
    "3. $|010 \\rangle$\n",
    "4. $|011 \\rangle$\n",
    "5. $|100 \\rangle$\n",
    "6. $|101 \\rangle$\n",
    "7. $|110 \\rangle$\n",
    "8. $|111 \\rangle$\n",
    "\n",
    "Now, compute these by hand to verify your code is correct. For example, the first computation will be\n",
    "\n",
    "\\begin{align}\n",
    "\\begin{pmatrix} 1\\\\0 \\end{pmatrix} \\otimes\n",
    "\\begin{pmatrix} 1\\\\0 \\end{pmatrix} \\otimes\n",
    "\\begin{pmatrix} 0\\\\1 \\end{pmatrix}\n",
    "\\end{align}"
   ]
  },
  {
   "cell_type": "markdown",
   "metadata": {},
   "source": [
    "9. Define a defaul device with \"3 wires\" and \"5 shots\".\n",
    "10. Define an array 'uud' for the basis state $|001\\rangle$.\n",
    "11. Now define a 'qnode' that will print the samples: \n",
    "> qml.sample(qml.PauliZ(0)), qml.sample(qml.PauliZ(1)), qml.sample(qml.PauliZ(2))\n",
    "12. Run your 'qnode' and verify that you get the output vector\n",
    "\\begin{align}\n",
    "\\begin{pmatrix}\n",
    "1 \\\\ 1 \\\\ -1\n",
    "\\end{pmatrix}\n",
    "\\end{align}\n",
    "\n",
    "five times.\n",
    "\n",
    "13. Try doing this with the other basis states given in Exercises 1-8."
   ]
  },
  {
   "cell_type": "markdown",
   "metadata": {},
   "source": [
    "## Matrices"
   ]
  },
  {
   "cell_type": "markdown",
   "metadata": {},
   "source": [
    "Matrices form the foundation for quantum gates, which are just operations on qubits that move the points around the Bloch sphere. Matrices are also called operators and (quantum) gates. They can operate on a single qubit, or on many qubits simultaneously. The operators (or matrices or gates) we will be using most are known as *unitary operators* or *unitary matrices*. In this section we will discuss basic matrix algebra and define unitary matrices. "
   ]
  },
  {
   "cell_type": "markdown",
   "metadata": {},
   "source": [
    "We have already seen two ways or realizing matrices in Python. Suppose we have the following $2 \\times 2$ matrix\n",
    "\n",
    "\\begin{align}\n",
    "M = \\begin{pmatrix}\n",
    "2-i & -3 \\\\\n",
    "-5i & 2\n",
    "\\end{pmatrix}\n",
    "\\end{align}\n",
    "\n",
    "We can define this matrix as an array, or as a matrix in Python:"
   ]
  },
  {
   "cell_type": "code",
   "execution_count": 46,
   "metadata": {},
   "outputs": [
    {
     "name": "stdout",
     "output_type": "stream",
     "text": [
      "[[ 2.-1.j -3.+0.j]\n",
      " [-0.-5.j  2.+0.j]]\n"
     ]
    }
   ],
   "source": [
    "M = np.array([[2-1j, -3],\n",
    "              [-5j, 2]])\n",
    "\n",
    "print(M)"
   ]
  },
  {
   "cell_type": "code",
   "execution_count": 47,
   "metadata": {},
   "outputs": [
    {
     "name": "stdout",
     "output_type": "stream",
     "text": [
      "[[ 2.-1.j -3.+0.j]\n",
      " [-0.-5.j  2.+0.j]]\n"
     ]
    }
   ],
   "source": [
    "M = np.matrix([[2-1j, -3],\n",
    "               [-5j, 2]])\n",
    "\n",
    "print(M)"
   ]
  },
  {
   "cell_type": "markdown",
   "metadata": {},
   "source": [
    "We will use the second version, the matrix version, so that we can again take Hermitian conjugates of the matrices, which is again given by the conjugate transpose:"
   ]
  },
  {
   "cell_type": "code",
   "execution_count": 48,
   "metadata": {},
   "outputs": [
    {
     "name": "stdout",
     "output_type": "stream",
     "text": [
      "[[ 2.+1.j -0.+5.j]\n",
      " [-3.-0.j  2.-0.j]]\n"
     ]
    }
   ],
   "source": [
    "print(M.H)"
   ]
  },
  {
   "cell_type": "markdown",
   "metadata": {},
   "source": [
    "This transposes the matrix and conjugates all of its entries. We can also multiply matrices so long as the dimensions match appropriately. In particular, to multiply two matrices $A$ and $B$, the matrix must be an $n \\times p$ matrix and the matrix $B$ must be a $p \\times m$ matrix. The result is an $n \\times m$ matrix. For example:"
   ]
  },
  {
   "cell_type": "code",
   "execution_count": 49,
   "metadata": {},
   "outputs": [
    {
     "data": {
      "text/plain": [
       "matrix([[ -5. +7.j,   1. +0.j, -15.+10.j,   0.-31.j],\n",
       "        [  4. -6.j, -14. -9.j,  18.-25.j,   6. -3.j],\n",
       "        [  9. +4.j,   0.-11.j,  25.+12.j, -18. +0.j]])"
      ]
     },
     "execution_count": 49,
     "metadata": {},
     "output_type": "execute_result"
    }
   ],
   "source": [
    "# Define a 3x2 matrix:\n",
    "A = np.matrix([[2j, -5],\n",
    "               [3-5j, 1], \n",
    "               [5, 4j]])\n",
    "\n",
    "# Define a 2x4 matrix:\n",
    "B = np.matrix([[1, -3j, 5, 2], \n",
    "               [1-1j, 1, 3, 7j]])\n",
    "\n",
    "#Taking the product of a (3x2) and (2x4) matrix will give a 3x4 matrix:\n",
    "np.dot(A, B)"
   ]
  },
  {
   "cell_type": "markdown",
   "metadata": {},
   "source": [
    "If we are using the matrix definition instead of the array definition we can also multiply the two matrices as follows:"
   ]
  },
  {
   "cell_type": "code",
   "execution_count": 50,
   "metadata": {},
   "outputs": [
    {
     "data": {
      "text/plain": [
       "matrix([[ -5. +7.j,   1. +0.j, -15.+10.j,   0.-31.j],\n",
       "        [  4. -6.j, -14. -9.j,  18.-25.j,   6. -3.j],\n",
       "        [  9. +4.j,   0.-11.j,  25.+12.j, -18. +0.j]])"
      ]
     },
     "execution_count": 50,
     "metadata": {},
     "output_type": "execute_result"
    }
   ],
   "source": [
    "A*B"
   ]
  },
  {
   "cell_type": "markdown",
   "metadata": {},
   "source": [
    "If we define the two matrices as arrays, this will not work and will return an error. "
   ]
  },
  {
   "cell_type": "markdown",
   "metadata": {},
   "source": [
    "### Exercises"
   ]
  },
  {
   "cell_type": "markdown",
   "metadata": {},
   "source": [
    "#### Define the following four matrices\n",
    "\n",
    "\\begin{align}\n",
    "I = \\begin{pmatrix} 1&0 \\\\ 0&1 \\end{pmatrix}, \\quad\n",
    "X = \\begin{pmatrix} 0&1 \\\\ 1&0 \\end{pmatrix}, \\quad\n",
    "Y = \\begin{pmatrix} 0&i \\\\ -i&0 \\end{pmatrix}, \\quad\n",
    "Z = \\begin{pmatrix} 1&0 \\\\ 0&-1 \\end{pmatrix}, \\quad\n",
    "H = \\frac{1}{\\sqrt{2}} \\begin{pmatrix} 1&1 \\\\ 1&-1 \\end{pmatrix}\n",
    "\\end{align}"
   ]
  },
  {
   "cell_type": "markdown",
   "metadata": {},
   "source": [
    "#### Write Python code to compute the following matrix multiplications:\n",
    "\n",
    "1. $XY$\n",
    "2. $YX$\n",
    "3. $YZ$\n",
    "4. $ZY$\n",
    "5. $HX$\n",
    "6. $YH$\n",
    "7. $XYZ$\n",
    "8. $YZX$\n",
    "9. $ZXY$\n",
    "10. $XHY$"
   ]
  },
  {
   "cell_type": "markdown",
   "metadata": {},
   "source": [
    "## Tensor Products of Matrices"
   ]
  },
  {
   "cell_type": "markdown",
   "metadata": {},
   "source": [
    "In this section we will discuss how to take tensor products of matrices in order to later build quantum gates that operate on many qubits at once. Understanding the basics of tensor products of matrices is fundamental to understanding quantum logic gates and quantum circuits. For the tensor product of two $2 \\times 2$ matrices, the general rule is as follows:"
   ]
  },
  {
   "cell_type": "markdown",
   "metadata": {},
   "source": [
    "\\begin{align}\n",
    "\\begin{pmatrix}\n",
    "a & b \\\\\n",
    "c & d\n",
    "\\end{pmatrix} \\otimes \n",
    "\\begin{pmatrix}\n",
    "x & y \\\\\n",
    "z & w\n",
    "\\end{pmatrix} = \n",
    "\\begin{pmatrix}\n",
    "a \\begin{pmatrix}\n",
    "x & y \\\\\n",
    "z & w\n",
    "\\end{pmatrix} & b \\begin{pmatrix}\n",
    "x & y \\\\\n",
    "z & w\n",
    "\\end{pmatrix} \\\\\n",
    "c \\begin{pmatrix}\n",
    "x & y \\\\\n",
    "z & w\n",
    "\\end{pmatrix} & d \\begin{pmatrix}\n",
    "x & y \\\\\n",
    "z & w\n",
    "\\end{pmatrix}\n",
    "\\end{pmatrix} = \n",
    "\\begin{pmatrix}\n",
    "ax & ay & bx & by \\\\\n",
    "az & aw & bz & bw \\\\\n",
    "cx & cy & dx & dy \\\\\n",
    "cz & cw & dz & dw\n",
    "\\end{pmatrix}\n",
    "\\end{align}"
   ]
  },
  {
   "cell_type": "markdown",
   "metadata": {},
   "source": [
    "Here is a basic numerical example:\n",
    "\n",
    "\\begin{align}\n",
    "\\begin{pmatrix}\n",
    "2 & 3 \\\\\n",
    "6 & 1\n",
    "\\end{pmatrix} \\otimes\n",
    "\\begin{pmatrix}\n",
    "7 & 10 \\\\\n",
    "9 & 4\n",
    "\\end{pmatrix} = \n",
    "\\begin{pmatrix}\n",
    "2 \\begin{pmatrix}\n",
    "7 & 10 \\\\\n",
    "9 & 4\n",
    "\\end{pmatrix}& 3\\begin{pmatrix}\n",
    "7 & 10 \\\\\n",
    "9 & 4\n",
    "\\end{pmatrix} \\\\\n",
    "6\\begin{pmatrix}\n",
    "7 & 10 \\\\\n",
    "9 & 4\n",
    "\\end{pmatrix} & 1\\begin{pmatrix}\n",
    "7 & 10 \\\\\n",
    "9 & 4\n",
    "\\end{pmatrix}\n",
    "\\end{pmatrix} = \n",
    "\\begin{pmatrix}\n",
    "14 & 20 & 21 & 30 \\\\\n",
    "18 & 8 & 27 & 12 \\\\\n",
    "42 & 60 & 7 & 10 \\\\\n",
    "54 & 24 & 9 & 4\n",
    "\\end{pmatrix}\n",
    "\\end{align}"
   ]
  },
  {
   "cell_type": "markdown",
   "metadata": {},
   "source": [
    "We can again use the 'np.kron()' function to perform this computation in Python:"
   ]
  },
  {
   "cell_type": "code",
   "execution_count": 51,
   "metadata": {},
   "outputs": [
    {
     "data": {
      "text/plain": [
       "matrix([[14, 20, 21, 30],\n",
       "        [18,  8, 27, 12],\n",
       "        [42, 60,  7, 10],\n",
       "        [54, 24,  9,  4]])"
      ]
     },
     "execution_count": 51,
     "metadata": {},
     "output_type": "execute_result"
    }
   ],
   "source": [
    "A = np.matrix([[2, 3],\n",
    "               [6, 1]])\n",
    "\n",
    "B = np.matrix([[7, 10], \n",
    "               [9, 4]])\n",
    "\n",
    "np.kron(A,B)"
   ]
  },
  {
   "cell_type": "markdown",
   "metadata": {},
   "source": [
    "In quantum computing, if we have basis states such as\n",
    "\n",
    "\\begin{align}\n",
    "|010\\rangle &= |0\\rangle \\otimes |1\\rangle \\otimes |0\\rangle \\\\\n",
    "&= \\begin{pmatrix}\n",
    "1\\\\0\n",
    "\\end{pmatrix} \\otimes \n",
    "\\begin{pmatrix}\n",
    "0\\\\1\n",
    "\\end{pmatrix} \\otimes \n",
    "\\begin{pmatrix}\n",
    "1\\\\0\n",
    "\\end{pmatrix} \\\\\n",
    "&= \\begin{pmatrix}\n",
    "0\\\\0\\\\1\\\\0\\\\0\\\\0\\\\0\\\\0\n",
    "\\end{pmatrix}\n",
    "\\end{align}\n",
    "\n",
    "we can operate on them using tensor product of operators. In particular, to operate on a three qubit basis state such at this, we need the tensor product of three $2 \\times 2$ matrix. For example, with the following four operators:\n",
    "\n",
    "\\begin{align}\n",
    "I = \\begin{pmatrix} 1&0 \\\\ 0&1 \\end{pmatrix}, \\quad\n",
    "X = \\begin{pmatrix} 0&1 \\\\ 1&0 \\end{pmatrix}, \\quad\n",
    "Y = \\begin{pmatrix} 0&i \\\\ -i&0 \\end{pmatrix}, \\quad\n",
    "Z = \\begin{pmatrix} 1&0 \\\\ 0&-1 \\end{pmatrix}, \\quad\n",
    "H = \\frac{1}{\\sqrt{2}} \\begin{pmatrix} 1&1 \\\\ 1&-1 \\end{pmatrix}\n",
    "\\end{align}\n",
    "\n",
    "We can form tensor product such as $H \\otimes X \\otimes I$ and $Z \\otimes Z \\otimes H$, and any other three matrix combination you might dream up. Let's define a basis state $|01\\rangle$ and compute a few operators that will operate on this basis state:"
   ]
  },
  {
   "cell_type": "code",
   "execution_count": 52,
   "metadata": {},
   "outputs": [
    {
     "name": "stdout",
     "output_type": "stream",
     "text": [
      "[[0]\n",
      " [1]\n",
      " [0]\n",
      " [0]]\n"
     ]
    }
   ],
   "source": [
    "#Define the basis state |01>\n",
    "du = np.kron(spin_down, spin_up)\n",
    "print(du)"
   ]
  },
  {
   "cell_type": "code",
   "execution_count": 53,
   "metadata": {},
   "outputs": [],
   "source": [
    "# Define the matrices X, Y, Z, and H\n",
    "X = np.matrix([[0, 1],\n",
    "               [1, 0]])\n",
    "\n",
    "Y = np.matrix([[0, -1j], \n",
    "               [1j, 0]])\n",
    "\n",
    "Z = np.matrix([[1, 0],\n",
    "               [0, -1]])\n",
    "\n",
    "H = (1/np.sqrt(2))*np.matrix([[1, 1], \n",
    "                          [1, -1]])"
   ]
  },
  {
   "cell_type": "markdown",
   "metadata": {},
   "source": [
    "Now let's comute the following four tensor products:\n",
    "\n",
    "\\begin{align}\n",
    "X \\otimes Y, \\quad X \\otimes Z, \\quad H \\otimes H\n",
    "\\end{align}"
   ]
  },
  {
   "cell_type": "code",
   "execution_count": 54,
   "metadata": {},
   "outputs": [
    {
     "name": "stdout",
     "output_type": "stream",
     "text": [
      "[[0.+0.j 0.-0.j 0.+0.j 0.-1.j]\n",
      " [0.+0.j 0.+0.j 0.+1.j 0.+0.j]\n",
      " [0.+0.j 0.-1.j 0.+0.j 0.-0.j]\n",
      " [0.+1.j 0.+0.j 0.+0.j 0.+0.j]]\n"
     ]
    }
   ],
   "source": [
    "print(np.kron(X, Y))"
   ]
  },
  {
   "cell_type": "code",
   "execution_count": 55,
   "metadata": {},
   "outputs": [
    {
     "name": "stdout",
     "output_type": "stream",
     "text": [
      "[[ 0  0  1  0]\n",
      " [ 0  0  0 -1]\n",
      " [ 1  0  0  0]\n",
      " [ 0 -1  0  0]]\n"
     ]
    }
   ],
   "source": [
    "print(np.kron(X, Z))"
   ]
  },
  {
   "cell_type": "code",
   "execution_count": 56,
   "metadata": {},
   "outputs": [
    {
     "name": "stdout",
     "output_type": "stream",
     "text": [
      "[[ 0.5  0.5  0.5  0.5]\n",
      " [ 0.5 -0.5  0.5 -0.5]\n",
      " [ 0.5  0.5 -0.5 -0.5]\n",
      " [ 0.5 -0.5 -0.5  0.5]]\n"
     ]
    }
   ],
   "source": [
    "print(np.kron(H, H))"
   ]
  },
  {
   "cell_type": "markdown",
   "metadata": {},
   "source": [
    "Now, we can compute the action of these matrices on $|01\\rangle$ as:\n",
    "\n",
    "\\begin{align}\n",
    "(X \\otimes Y)(|01\\rangle) = (X \\otimes Y)(|0\\rangle \\otimes |1\\rangle) = X|0\\rangle \\otimes Y|1\\rangle \n",
    "\\end{align}\n",
    "\n",
    "\\begin{align}\n",
    "(X \\otimes Z)(|01\\rangle) = (X \\otimes Z)(|0\\rangle \\otimes |1\\rangle) = X|0\\rangle \\otimes Z|1\\rangle \n",
    "\\end{align}\n",
    "\n",
    "\\begin{align}\n",
    "(H \\otimes H)(|01\\rangle) = (H \\otimes H)(|0\\rangle \\otimes |1\\rangle) = H|0\\rangle \\otimes H|1\\rangle \n",
    "\\end{align}"
   ]
  },
  {
   "cell_type": "code",
   "execution_count": 57,
   "metadata": {},
   "outputs": [],
   "source": [
    "XY = np.kron(X, Y)\n",
    "XZ = np.kron(X, Z)\n",
    "HH = np.kron(H, H)"
   ]
  },
  {
   "cell_type": "code",
   "execution_count": 58,
   "metadata": {},
   "outputs": [
    {
     "name": "stdout",
     "output_type": "stream",
     "text": [
      "[[0.+0.j]\n",
      " [0.+0.j]\n",
      " [0.-1.j]\n",
      " [0.+0.j]]\n"
     ]
    }
   ],
   "source": [
    "print(XY * du)"
   ]
  },
  {
   "cell_type": "code",
   "execution_count": 59,
   "metadata": {},
   "outputs": [
    {
     "name": "stdout",
     "output_type": "stream",
     "text": [
      "[[ 0]\n",
      " [ 0]\n",
      " [ 0]\n",
      " [-1]]\n"
     ]
    }
   ],
   "source": [
    "print(XZ * du)"
   ]
  },
  {
   "cell_type": "code",
   "execution_count": 60,
   "metadata": {},
   "outputs": [
    {
     "name": "stdout",
     "output_type": "stream",
     "text": [
      "[[ 0.5]\n",
      " [-0.5]\n",
      " [ 0.5]\n",
      " [-0.5]]\n"
     ]
    }
   ],
   "source": [
    "print(HH * du)"
   ]
  },
  {
   "cell_type": "markdown",
   "metadata": {},
   "source": [
    "### Exercises"
   ]
  },
  {
   "cell_type": "markdown",
   "metadata": {},
   "source": [
    "1. Compute the following tensor product by hand:\n",
    "\n",
    "\\begin{align}\n",
    "\\begin{pmatrix}\n",
    "11 & 2 \\\\\n",
    "3 & 5\n",
    "\\end{pmatrix} \\otimes\n",
    "\\begin{pmatrix}\n",
    "7 & 8 \\\\ \n",
    "0 & 1\n",
    "\\end{pmatrix}\n",
    "\\end{align}"
   ]
  },
  {
   "cell_type": "markdown",
   "metadata": {},
   "source": [
    "#### Compute the following tensor products by hand:\n",
    "\n",
    "2. $X \\otimes X$\n",
    "3. $Z \\otimes Y$\n",
    "4. $H \\otimes X$"
   ]
  },
  {
   "cell_type": "markdown",
   "metadata": {},
   "source": [
    "#### Write Python code to compute the tensor products:\n",
    "\n",
    "5. $X \\otimes X$\n",
    "6. $Z \\otimes Y$\n",
    "7. $H \\otimes X$\n",
    "8. $H \\otimes H$"
   ]
  },
  {
   "cell_type": "markdown",
   "metadata": {},
   "source": [
    "9. Write Python code to verify that $(H \\otimes H) \\otimes H = H \\otimes (H \\otimes H)$. "
   ]
  },
  {
   "cell_type": "markdown",
   "metadata": {},
   "source": [
    "#### Use the following code defining the basis state $|010 \\rangle $ and the relevant tensor products to compute the following: \n",
    "\n",
    "10. $(X \\otimes X \\otimes Y)|010 \\rangle$\n",
    "11. $(X \\otimes Z \\otimes H)|010 \\rangle$\n",
    "12. $(H \\otimes H \\otimes H)|010 \\rangle$"
   ]
  },
  {
   "cell_type": "code",
   "execution_count": 61,
   "metadata": {},
   "outputs": [],
   "source": [
    "# Define the matrices X, Y, Z, and H:\n",
    "X = np.matrix([[0, 1],\n",
    "               [1, 0]])\n",
    "\n",
    "Y = np.matrix([[0, -1j], \n",
    "               [1j, 0]])\n",
    "\n",
    "Z = np.matrix([[1, 0],\n",
    "               [0, -1]])\n",
    "\n",
    "H = (1/np.sqrt(2))*np.matrix([[1, 1], \n",
    "                              [1, -1]])\n",
    "\n",
    "# Define the following tensor products:\n",
    "XY = np.kron(X, Y)\n",
    "XZ = np.kron(X, Z)\n",
    "HH = np.kron(H, H)\n",
    "\n",
    "# Define the following additional tensor products:\n",
    "XXY = np.kron(X, XY)\n",
    "XZH = np.kron(XZ, H)\n",
    "HHH = np.kron(HH, H)\n",
    "\n",
    "# Define the basis state:\n",
    "dud = np.kron(down_up, spin_down)"
   ]
  },
  {
   "cell_type": "markdown",
   "metadata": {},
   "source": [
    "## Quantum Logic Gates"
   ]
  },
  {
   "cell_type": "markdown",
   "metadata": {},
   "source": [
    "In this section we will discuss a list of the most commonly used [quantum logic gates](https://en.wikipedia.org/wiki/Quantum_logic_gate#Square_root_of_NOT_gate_(%E2%88%9ANOT)) in quantum computing. This will include the Pauli operators, the Hadamard gate, phase gates, controlled-U gates for various unitary operators, swap operators, and the Toffoli gate. \n",
    "\n",
    "> \"In quantum computing and specifically the quantum circuit model of computation, a quantum logic gate (or simply quantum gate) is a basic quantum circuit operating on a small number of qubits. They are the building blocks of quantum circuits, like classical logic gates are for conventional digital circuits.\"\n",
    "\n",
    "> \"Unlike many classical logic gates, quantum logic gates are reversible. However, it is possible to perform classical computing using only reversible gates. For example, the reversible Toffoli gate can implement all Boolean functions, often at the cost of having to use ancilla bits. The Toffoli gate has a direct quantum equivalent, showing that quantum circuits can perform all operations performed by classical circuits.\""
   ]
  },
  {
   "cell_type": "markdown",
   "metadata": {},
   "source": [
    "### The Pauli X, Y, and Z gates:\n",
    "\n",
    "\\begin{align}\n",
    "X = \\begin{pmatrix} 0&1 \\\\ 1&0 \\end{pmatrix}, \\quad\n",
    "Y = \\begin{pmatrix} 0&i \\\\ -i&0 \\end{pmatrix}, \\quad\n",
    "Z = \\begin{pmatrix} 1&0 \\\\ 0&-1 \\end{pmatrix}, \\quad\n",
    "\\end{align}"
   ]
  },
  {
   "cell_type": "markdown",
   "metadata": {},
   "source": [
    "### The Identity Operator and the Hadamard Gate:\n",
    "\n",
    "\\begin{align}\n",
    "I = \\begin{pmatrix} 1&0 \\\\ 0&1 \\end{pmatrix}, \\quad\n",
    "\\text{Hadamard Gate:} \\ \\ H = \\frac{1}{\\sqrt{2}} \\begin{pmatrix} 1&1 \\\\ 1&-1 \\end{pmatrix}\n",
    "\\end{align}"
   ]
  },
  {
   "cell_type": "markdown",
   "metadata": {},
   "source": [
    "### The Phase Gate\n",
    "\n",
    "\\begin{align}\n",
    "S = \n",
    "\\begin{pmatrix}\n",
    "1 & 0 \\\\\n",
    "0 & i\n",
    "\\end{pmatrix}\n",
    "\\end{align}"
   ]
  },
  {
   "cell_type": "markdown",
   "metadata": {},
   "source": [
    "### Controlled-NOT (CNOT or CX)\n",
    "\n",
    "\n",
    "\\begin{align}\n",
    "CX &= \\begin{pmatrix} I & 0 \\\\ 0 & X \\end{pmatrix} = \n",
    "\\begin{pmatrix} \n",
    "1 & 0 & 0 & 0 \\\\\n",
    "0 & 1 & 0 & 0 \\\\\n",
    "0 & 0 & 0 & 1 \\\\\n",
    "0 & 0 & 1 & 0\n",
    "\\end{pmatrix}\n",
    "\\end{align}"
   ]
  },
  {
   "cell_type": "markdown",
   "metadata": {},
   "source": [
    "### Controlled-Z (CZ)\n",
    "\n",
    "\\begin{align}\n",
    "CZ &= \\begin{pmatrix} I & 0 \\\\ 0 & Z \\end{pmatrix} = \n",
    "\\begin{pmatrix} \n",
    "1 & 0 & 0 & 0 \\\\\n",
    "0 & 1 & 0 & 0 \\\\\n",
    "0 & 0 & 1 & 0 \\\\\n",
    "0 & 0 & 0 & -1\n",
    "\\end{pmatrix}\n",
    "\\end{align}"
   ]
  },
  {
   "cell_type": "markdown",
   "metadata": {},
   "source": [
    "### Controlled-U (CU)\n",
    "\n",
    "Let $U = \\begin{pmatrix} u_{11} & u_{12} \\\\ u_{21} & u_{22} \\end{pmatrix}$ be any unitary matrix operator. Then we have the following gates:\n",
    "\n",
    "\\begin{align}\n",
    "CU &= \\begin{pmatrix} I & 0 \\\\ 0 & U \\end{pmatrix} = \n",
    "\\begin{pmatrix} \n",
    "1 & 0 & 0 & 0 \\\\\n",
    "0 & 1 & 0 & 0 \\\\\n",
    "0 & 0 & u_{11} & u_{12} \\\\\n",
    "0 & 0 & u_{21} & u_{22}\n",
    "\\end{pmatrix}\n",
    "\\end{align}"
   ]
  },
  {
   "cell_type": "markdown",
   "metadata": {},
   "source": [
    "### Swap\n",
    "\n",
    "\\begin{align}\n",
    "\\mathbf{SWAP} = \\begin{pmatrix}\n",
    "1 & 0 & 0 & 0 \\\\\n",
    "0 & 0 & 1 & 0 \\\\\n",
    "0 & 1 & 0 & 0 \\\\\n",
    "0 & 0 & 0 & 1 \n",
    "\\end{pmatrix}\n",
    "\\end{align}"
   ]
  },
  {
   "cell_type": "markdown",
   "metadata": {},
   "source": [
    "### Toffoli Gate\n",
    "\n",
    "\\begin{align}\n",
    "\\mathbf{CCX}\n",
    "= \\begin{pmatrix}\n",
    "1 & 0 & 0 & 0 & 0 & 0 & 0 & 0 \\\\\n",
    "0 & 1 & 0 & 0 & 0 & 0 & 0 & 0 \\\\\n",
    "0 & 0 & 1 & 0 & 0 & 0 & 0 & 0 \\\\\n",
    "0 & 0 & 0 & 1 & 0 & 0 & 0 & 0 \\\\\n",
    "0 & 0 & 0 & 0 & 1 & 0 & 0 & 0 \\\\\n",
    "0 & 0 & 0 & 0 & 0 & 1 & 0 & 0 \\\\\n",
    "0 & 0 & 0 & 0 & 0 & 0 & 0 & 1 \\\\\n",
    "0 & 0 & 0 & 0 & 0 & 0 & 1 & 0 \n",
    "\\end{pmatrix}\n",
    "\\end{align}"
   ]
  },
  {
   "cell_type": "markdown",
   "metadata": {},
   "source": [
    "### Exercises\n",
    "\n",
    "Compute the following tensor products by hand:\n",
    "\n",
    "1. $CX \\otimes H$\n",
    "2. $H \\otimes CZ$\n",
    "3. $H \\otimes S$\n",
    "\n",
    "Write Python code to compute the tensor products:\n",
    "\n",
    "4. $CX \\otimes H$\n",
    "5. $H \\otimes CZ$\n",
    "6. $H \\otimes S$\n",
    "\n",
    "Write Python code to compute the basis states as column matrices:\n",
    "\n",
    "7. $|00 \\rangle$\n",
    "8. $|01 \\rangle$\n",
    "9. $|10 \\rangle$\n",
    "10. $|11 \\rangle$\n",
    "\n",
    "Compute the following using Python code:\n",
    "\n",
    "11. $(CX \\otimes H)|00 \\rangle$\n",
    "12. $(CX \\otimes H)|10 \\rangle$\n",
    "13. $(H \\otimes CZ)|11 \\rangle$\n",
    "14. $(H \\otimes CZ)|01 \\rangle$\n",
    "15. $(H \\otimes S)|01 \\rangle$\n",
    "\n",
    "Write Python code for the column matrix basis states:\n",
    "\n",
    "16. $|001 \\rangle$\n",
    "17. $|101 \\rangle$\n",
    "\n",
    "Write Python code to compute:\n",
    "\n",
    "17. $CCX|001 \\rangle$\n",
    "18. $CCX|101 \\rangle$"
   ]
  },
  {
   "cell_type": "markdown",
   "metadata": {},
   "source": [
    "## References and Online Notebooks"
   ]
  },
  {
   "cell_type": "markdown",
   "metadata": {},
   "source": [
    "### Linear Algebra\n",
    "\n",
    "- [3Blue1Brown Videos](https://www.youtube.com/watch?v=fNk_zzaMoSs&list=PLZHQObOWTQDPD3MizzM2xVFitgF8hE_ab)\n",
    "\n",
    "- [Gilbert Strang MIT Lectures](https://www.youtube.com/watch?v=7UJ4CFRGd-U&list=PLE7DDD91010BC51F8)\n",
    "\n",
    "- [Khan Academy](https://www.youtube.com/watch?v=xyAuNHPsq-g&list=PLFD0EB975BA0CC1E0)\n",
    "\n",
    "- [Mesh Logic](https://meshlogic.github.io/posts/jupyter/linear-algebra/linear-algebra-numpy-1/)\n",
    "\n",
    "- [Plotly](https://plot.ly/python/v3/linear-algebra/)\n",
    "\n",
    "- [Rachel Thomas: Computational Linear Algebra Code with Videos](https://github.com/fastai/numerical-linear-algebra)\n",
    "\n",
    "### Tensors\n",
    "\n",
    "- [Khan Academy](https://www.youtube.com/watch?v=uaQeXi4E7gA&t=43s)\n",
    "\n",
    "### Quantum Physics\n",
    "\n",
    "- [Mathematical Foundations of Quantum Mechanics](https://www.youtube.com/watch?v=fVfp82FpSO8&list=PLdgVBOaXkb9Bv466YnyxslT4gIlSZdtjw)\n",
    "\n",
    "- [MIT Open Courseware](https://ocw.mit.edu/courses/physics/8-05-quantum-physics-ii-fall-2013/video-lectures/)\n"
   ]
  },
  {
   "cell_type": "code",
   "execution_count": null,
   "metadata": {},
   "outputs": [],
   "source": []
  }
 ],
 "metadata": {
  "kernelspec": {
   "display_name": "Python 3",
   "language": "python",
   "name": "python3"
  },
  "language_info": {
   "codemirror_mode": {
    "name": "ipython",
    "version": 3
   },
   "file_extension": ".py",
   "mimetype": "text/x-python",
   "name": "python",
   "nbconvert_exporter": "python",
   "pygments_lexer": "ipython3",
   "version": "3.7.3"
  }
 },
 "nbformat": 4,
 "nbformat_minor": 4
}
